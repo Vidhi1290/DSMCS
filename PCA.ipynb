{
 "cells": [
  {
   "cell_type": "markdown",
   "metadata": {},
   "source": [
    "### Agenda\n",
    "   \n",
    "    1. PCA Demo\n",
    "        ♦ Problem Description\n",
    "        ♦ Data Understanding\n",
    "        ♦ Retreiving pricipal components\n",
    "    \n",
    "    2. Case Study - House price prediction\n",
    "        ♦ Problem Description\n",
    "        ♦ Data Understanding\n",
    "        ♦ Split the data into Train and Validation sets\n",
    "        ♦ Build a Multiple linear regression model\n",
    "        ♦ Generate PCA Transformed features on train data\n",
    "        ♦ Build a Multiple linear regression model with PCA transformed numeric features and categorical features "
   ]
  },
  {
   "cell_type": "markdown",
   "metadata": {},
   "source": [
    "### Problem Description"
   ]
  },
  {
   "cell_type": "markdown",
   "metadata": {},
   "source": [
    "This is an inbuit dataset in R (For more details run - \"?attitude\")"
   ]
  },
  {
   "cell_type": "markdown",
   "metadata": {},
   "source": [
    "From a survey of the clerical employees of a large financial organization, the data are aggregated from the questionnaires of the approximately 35 employees for each of 30 (randomly selected) departments. The numbers give the percent proportion of favourable responses to seven questions in each department."
   ]
  },
  {
   "cell_type": "markdown",
   "metadata": {},
   "source": [
    "rating\t   - Overall rating (Target)\n",
    "\n",
    "complaints - Handling of employee complaints\n",
    "\n",
    "privileges - Does not allow special privileges\n",
    "\n",
    "learning   - Opportunity to learn\n",
    "\n",
    "raises     - Raises based on performance\n",
    "\n",
    "critical   - Too critical\n",
    "\n",
    "advancel   - Advancement"
   ]
  },
  {
   "cell_type": "code",
   "execution_count": 1,
   "metadata": {},
   "outputs": [
    {
     "data": {
      "text/html": [
       "<table class=\"dataframe\">\n",
       "<caption>A data.frame: 6 × 7</caption>\n",
       "<thead>\n",
       "\t<tr><th></th><th scope=col>rating</th><th scope=col>complaints</th><th scope=col>privileges</th><th scope=col>learning</th><th scope=col>raises</th><th scope=col>critical</th><th scope=col>advance</th></tr>\n",
       "\t<tr><th></th><th scope=col>&lt;dbl&gt;</th><th scope=col>&lt;dbl&gt;</th><th scope=col>&lt;dbl&gt;</th><th scope=col>&lt;dbl&gt;</th><th scope=col>&lt;dbl&gt;</th><th scope=col>&lt;dbl&gt;</th><th scope=col>&lt;dbl&gt;</th></tr>\n",
       "</thead>\n",
       "<tbody>\n",
       "\t<tr><th scope=row>1</th><td>43</td><td>51</td><td>30</td><td>39</td><td>61</td><td>92</td><td>45</td></tr>\n",
       "\t<tr><th scope=row>2</th><td>63</td><td>64</td><td>51</td><td>54</td><td>63</td><td>73</td><td>47</td></tr>\n",
       "\t<tr><th scope=row>3</th><td>71</td><td>70</td><td>68</td><td>69</td><td>76</td><td>86</td><td>48</td></tr>\n",
       "\t<tr><th scope=row>4</th><td>61</td><td>63</td><td>45</td><td>47</td><td>54</td><td>84</td><td>35</td></tr>\n",
       "\t<tr><th scope=row>5</th><td>81</td><td>78</td><td>56</td><td>66</td><td>71</td><td>83</td><td>47</td></tr>\n",
       "\t<tr><th scope=row>6</th><td>43</td><td>55</td><td>49</td><td>44</td><td>54</td><td>49</td><td>34</td></tr>\n",
       "</tbody>\n",
       "</table>\n"
      ],
      "text/latex": [
       "A data.frame: 6 × 7\n",
       "\\begin{tabular}{r|lllllll}\n",
       "  & rating & complaints & privileges & learning & raises & critical & advance\\\\\n",
       "  & <dbl> & <dbl> & <dbl> & <dbl> & <dbl> & <dbl> & <dbl>\\\\\n",
       "\\hline\n",
       "\t1 & 43 & 51 & 30 & 39 & 61 & 92 & 45\\\\\n",
       "\t2 & 63 & 64 & 51 & 54 & 63 & 73 & 47\\\\\n",
       "\t3 & 71 & 70 & 68 & 69 & 76 & 86 & 48\\\\\n",
       "\t4 & 61 & 63 & 45 & 47 & 54 & 84 & 35\\\\\n",
       "\t5 & 81 & 78 & 56 & 66 & 71 & 83 & 47\\\\\n",
       "\t6 & 43 & 55 & 49 & 44 & 54 & 49 & 34\\\\\n",
       "\\end{tabular}\n"
      ],
      "text/markdown": [
       "\n",
       "A data.frame: 6 × 7\n",
       "\n",
       "| <!--/--> | rating &lt;dbl&gt; | complaints &lt;dbl&gt; | privileges &lt;dbl&gt; | learning &lt;dbl&gt; | raises &lt;dbl&gt; | critical &lt;dbl&gt; | advance &lt;dbl&gt; |\n",
       "|---|---|---|---|---|---|---|---|\n",
       "| 1 | 43 | 51 | 30 | 39 | 61 | 92 | 45 |\n",
       "| 2 | 63 | 64 | 51 | 54 | 63 | 73 | 47 |\n",
       "| 3 | 71 | 70 | 68 | 69 | 76 | 86 | 48 |\n",
       "| 4 | 61 | 63 | 45 | 47 | 54 | 84 | 35 |\n",
       "| 5 | 81 | 78 | 56 | 66 | 71 | 83 | 47 |\n",
       "| 6 | 43 | 55 | 49 | 44 | 54 | 49 | 34 |\n",
       "\n"
      ],
      "text/plain": [
       "  rating complaints privileges learning raises critical advance\n",
       "1 43     51         30         39       61     92       45     \n",
       "2 63     64         51         54       63     73       47     \n",
       "3 71     70         68         69       76     86       48     \n",
       "4 61     63         45         47       54     84       35     \n",
       "5 81     78         56         66       71     83       47     \n",
       "6 43     55         49         44       54     49       34     "
      ]
     },
     "metadata": {},
     "output_type": "display_data"
    }
   ],
   "source": [
    "## Attitude is a built in dataset\n",
    "\n",
    "head(attitude)"
   ]
  },
  {
   "cell_type": "code",
   "execution_count": 2,
   "metadata": {
    "scrolled": true
   },
   "outputs": [
    {
     "data": {
      "text/html": [
       "<table class=\"dataframe\">\n",
       "<caption>A data.frame: 6 × 6</caption>\n",
       "<thead>\n",
       "\t<tr><th></th><th scope=col>complaints</th><th scope=col>privileges</th><th scope=col>learning</th><th scope=col>raises</th><th scope=col>critical</th><th scope=col>advance</th></tr>\n",
       "\t<tr><th></th><th scope=col>&lt;dbl&gt;</th><th scope=col>&lt;dbl&gt;</th><th scope=col>&lt;dbl&gt;</th><th scope=col>&lt;dbl&gt;</th><th scope=col>&lt;dbl&gt;</th><th scope=col>&lt;dbl&gt;</th></tr>\n",
       "</thead>\n",
       "<tbody>\n",
       "\t<tr><th scope=row>1</th><td>51</td><td>30</td><td>39</td><td>61</td><td>92</td><td>45</td></tr>\n",
       "\t<tr><th scope=row>2</th><td>64</td><td>51</td><td>54</td><td>63</td><td>73</td><td>47</td></tr>\n",
       "\t<tr><th scope=row>3</th><td>70</td><td>68</td><td>69</td><td>76</td><td>86</td><td>48</td></tr>\n",
       "\t<tr><th scope=row>4</th><td>63</td><td>45</td><td>47</td><td>54</td><td>84</td><td>35</td></tr>\n",
       "\t<tr><th scope=row>5</th><td>78</td><td>56</td><td>66</td><td>71</td><td>83</td><td>47</td></tr>\n",
       "\t<tr><th scope=row>6</th><td>55</td><td>49</td><td>44</td><td>54</td><td>49</td><td>34</td></tr>\n",
       "</tbody>\n",
       "</table>\n"
      ],
      "text/latex": [
       "A data.frame: 6 × 6\n",
       "\\begin{tabular}{r|llllll}\n",
       "  & complaints & privileges & learning & raises & critical & advance\\\\\n",
       "  & <dbl> & <dbl> & <dbl> & <dbl> & <dbl> & <dbl>\\\\\n",
       "\\hline\n",
       "\t1 & 51 & 30 & 39 & 61 & 92 & 45\\\\\n",
       "\t2 & 64 & 51 & 54 & 63 & 73 & 47\\\\\n",
       "\t3 & 70 & 68 & 69 & 76 & 86 & 48\\\\\n",
       "\t4 & 63 & 45 & 47 & 54 & 84 & 35\\\\\n",
       "\t5 & 78 & 56 & 66 & 71 & 83 & 47\\\\\n",
       "\t6 & 55 & 49 & 44 & 54 & 49 & 34\\\\\n",
       "\\end{tabular}\n"
      ],
      "text/markdown": [
       "\n",
       "A data.frame: 6 × 6\n",
       "\n",
       "| <!--/--> | complaints &lt;dbl&gt; | privileges &lt;dbl&gt; | learning &lt;dbl&gt; | raises &lt;dbl&gt; | critical &lt;dbl&gt; | advance &lt;dbl&gt; |\n",
       "|---|---|---|---|---|---|---|\n",
       "| 1 | 51 | 30 | 39 | 61 | 92 | 45 |\n",
       "| 2 | 64 | 51 | 54 | 63 | 73 | 47 |\n",
       "| 3 | 70 | 68 | 69 | 76 | 86 | 48 |\n",
       "| 4 | 63 | 45 | 47 | 54 | 84 | 35 |\n",
       "| 5 | 78 | 56 | 66 | 71 | 83 | 47 |\n",
       "| 6 | 55 | 49 | 44 | 54 | 49 | 34 |\n",
       "\n"
      ],
      "text/plain": [
       "  complaints privileges learning raises critical advance\n",
       "1 51         30         39       61     92       45     \n",
       "2 64         51         54       63     73       47     \n",
       "3 70         68         69       76     86       48     \n",
       "4 63         45         47       54     84       35     \n",
       "5 78         56         66       71     83       47     \n",
       "6 55         49         44       54     49       34     "
      ]
     },
     "metadata": {},
     "output_type": "display_data"
    }
   ],
   "source": [
    "## Store the independent variables into the variable \"data\"\n",
    "\n",
    "data  <- attitude[,-1]\n",
    "\n",
    "head(data)"
   ]
  },
  {
   "cell_type": "code",
   "execution_count": 3,
   "metadata": {
    "scrolled": true
   },
   "outputs": [
    {
     "data": {
      "text/html": [
       "<table class=\"dataframe\">\n",
       "<caption>A matrix: 6 × 6 of type dbl</caption>\n",
       "<thead>\n",
       "\t<tr><th scope=col>complaints</th><th scope=col>privileges</th><th scope=col>learning</th><th scope=col>raises</th><th scope=col>critical</th><th scope=col>advance</th></tr>\n",
       "</thead>\n",
       "<tbody>\n",
       "\t<tr><td>-1.1716323</td><td>-1.8906841</td><td>-1.4796496</td><td>-0.3494522</td><td> 1.7416366</td><td> 0.2008675</td></tr>\n",
       "\t<tr><td>-0.1952721</td><td>-0.1743570</td><td>-0.2016413</td><td>-0.1570932</td><td>-0.1785430</td><td> 0.3952554</td></tr>\n",
       "\t<tr><td> 0.2553558</td><td> 1.2150506</td><td> 1.0763670</td><td> 1.0932404</td><td> 1.1352641</td><td> 0.4924494</td></tr>\n",
       "\t<tr><td>-0.2703767</td><td>-0.6647362</td><td>-0.7980452</td><td>-1.0227087</td><td> 0.9331399</td><td>-0.7710720</td></tr>\n",
       "\t<tr><td> 0.8561929</td><td> 0.2342923</td><td> 0.8207653</td><td> 0.6123428</td><td> 0.8320778</td><td> 0.3952554</td></tr>\n",
       "\t<tr><td>-0.8712138</td><td>-0.3378168</td><td>-1.0536469</td><td>-1.0227087</td><td>-2.6040331</td><td>-0.8682660</td></tr>\n",
       "</tbody>\n",
       "</table>\n"
      ],
      "text/latex": [
       "A matrix: 6 × 6 of type dbl\n",
       "\\begin{tabular}{llllll}\n",
       " complaints & privileges & learning & raises & critical & advance\\\\\n",
       "\\hline\n",
       "\t -1.1716323 & -1.8906841 & -1.4796496 & -0.3494522 &  1.7416366 &  0.2008675\\\\\n",
       "\t -0.1952721 & -0.1743570 & -0.2016413 & -0.1570932 & -0.1785430 &  0.3952554\\\\\n",
       "\t  0.2553558 &  1.2150506 &  1.0763670 &  1.0932404 &  1.1352641 &  0.4924494\\\\\n",
       "\t -0.2703767 & -0.6647362 & -0.7980452 & -1.0227087 &  0.9331399 & -0.7710720\\\\\n",
       "\t  0.8561929 &  0.2342923 &  0.8207653 &  0.6123428 &  0.8320778 &  0.3952554\\\\\n",
       "\t -0.8712138 & -0.3378168 & -1.0536469 & -1.0227087 & -2.6040331 & -0.8682660\\\\\n",
       "\\end{tabular}\n"
      ],
      "text/markdown": [
       "\n",
       "A matrix: 6 × 6 of type dbl\n",
       "\n",
       "| complaints | privileges | learning | raises | critical | advance |\n",
       "|---|---|---|---|---|---|\n",
       "| -1.1716323 | -1.8906841 | -1.4796496 | -0.3494522 |  1.7416366 |  0.2008675 |\n",
       "| -0.1952721 | -0.1743570 | -0.2016413 | -0.1570932 | -0.1785430 |  0.3952554 |\n",
       "|  0.2553558 |  1.2150506 |  1.0763670 |  1.0932404 |  1.1352641 |  0.4924494 |\n",
       "| -0.2703767 | -0.6647362 | -0.7980452 | -1.0227087 |  0.9331399 | -0.7710720 |\n",
       "|  0.8561929 |  0.2342923 |  0.8207653 |  0.6123428 |  0.8320778 |  0.3952554 |\n",
       "| -0.8712138 | -0.3378168 | -1.0536469 | -1.0227087 | -2.6040331 | -0.8682660 |\n",
       "\n"
      ],
      "text/plain": [
       "     complaints privileges learning   raises     critical   advance   \n",
       "[1,] -1.1716323 -1.8906841 -1.4796496 -0.3494522  1.7416366  0.2008675\n",
       "[2,] -0.1952721 -0.1743570 -0.2016413 -0.1570932 -0.1785430  0.3952554\n",
       "[3,]  0.2553558  1.2150506  1.0763670  1.0932404  1.1352641  0.4924494\n",
       "[4,] -0.2703767 -0.6647362 -0.7980452 -1.0227087  0.9331399 -0.7710720\n",
       "[5,]  0.8561929  0.2342923  0.8207653  0.6123428  0.8320778  0.3952554\n",
       "[6,] -0.8712138 -0.3378168 -1.0536469 -1.0227087 -2.6040331 -0.8682660"
      ]
     },
     "metadata": {},
     "output_type": "display_data"
    }
   ],
   "source": [
    "## Standardize the data\n",
    "\n",
    "data = scale(data)\n",
    "\n",
    "head(data)"
   ]
  },
  {
   "cell_type": "markdown",
   "metadata": {},
   "source": [
    "#### Princomp"
   ]
  },
  {
   "cell_type": "code",
   "execution_count": 4,
   "metadata": {},
   "outputs": [],
   "source": [
    "## Compute PCA vectors using princomp\n",
    "\n",
    "pca_object = princomp(data)"
   ]
  },
  {
   "cell_type": "code",
   "execution_count": 5,
   "metadata": {
    "scrolled": true
   },
   "outputs": [
    {
     "data": {
      "text/plain": [
       "\n",
       "Loadings:\n",
       "           Comp.1 Comp.2 Comp.3 Comp.4 Comp.5 Comp.6\n",
       "complaints  0.439  0.313  0.445  0.316  0.192  0.612\n",
       "privileges  0.395  0.309  0.217 -0.815        -0.190\n",
       "learning    0.461  0.217 -0.272  0.225 -0.776 -0.118\n",
       "raises      0.493 -0.116         0.365  0.460 -0.631\n",
       "critical    0.225 -0.802  0.457        -0.289       \n",
       "advance     0.381 -0.321 -0.687 -0.206  0.255  0.416\n",
       "\n",
       "               Comp.1 Comp.2 Comp.3 Comp.4 Comp.5 Comp.6\n",
       "SS loadings     1.000  1.000  1.000  1.000  1.000  1.000\n",
       "Proportion Var  0.167  0.167  0.167  0.167  0.167  0.167\n",
       "Cumulative Var  0.167  0.333  0.500  0.667  0.833  1.000"
      ]
     },
     "metadata": {},
     "output_type": "display_data"
    }
   ],
   "source": [
    "## PCA loadings\n",
    "\n",
    "pca_object$loadings"
   ]
  },
  {
   "cell_type": "code",
   "execution_count": 6,
   "metadata": {},
   "outputs": [
    {
     "data": {
      "text/plain": [
       "Importance of components:\n",
       "                          Comp.1    Comp.2    Comp.3     Comp.4     Comp.5\n",
       "Standard deviation     1.7503092 0.9863072 0.8587656 0.73082094 0.55377938\n",
       "Proportion of Variance 0.5282039 0.1677245 0.1271515 0.09208608 0.05287441\n",
       "Cumulative Proportion  0.5282039 0.6959283 0.8230798 0.91516586 0.96804027\n",
       "                           Comp.6\n",
       "Standard deviation     0.43054202\n",
       "Proportion of Variance 0.03195973\n",
       "Cumulative Proportion  1.00000000"
      ]
     },
     "metadata": {},
     "output_type": "display_data"
    }
   ],
   "source": [
    "## Importance of components\n",
    "\n",
    "summary(pca_object)"
   ]
  },
  {
   "cell_type": "code",
   "execution_count": 7,
   "metadata": {},
   "outputs": [
    {
     "data": {
      "text/html": [
       "<table class=\"dataframe\">\n",
       "<caption>A matrix: 6 × 6 of type dbl</caption>\n",
       "<thead>\n",
       "\t<tr><th scope=col>Comp.1</th><th scope=col>Comp.2</th><th scope=col>Comp.3</th><th scope=col>Comp.4</th><th scope=col>Comp.5</th><th scope=col>Comp.6</th></tr>\n",
       "</thead>\n",
       "<tbody>\n",
       "\t<tr><td>-1.6478986</td><td>-2.6925346</td><td> 0.1262772</td><td> 0.49475465</td><td> 0.2392171</td><td> 0.2219666</td></tr>\n",
       "\t<tr><td>-0.2146741</td><td>-0.1240326</td><td>-0.4239115</td><td>-0.08579552</td><td> 0.1923724</td><td> 0.1908807</td></tr>\n",
       "\t<tr><td> 2.0697681</td><td>-0.5063506</td><td> 0.2721779</td><td>-0.48305343</td><td>-0.4394052</td><td>-0.6211254</td></tr>\n",
       "\t<tr><td>-1.3370825</td><td>-0.8461801</td><td> 0.9025611</td><td>-0.03120448</td><td>-0.3946255</td><td> 0.4335425</td></tr>\n",
       "\t<tr><td> 1.4866205</td><td>-0.3468409</td><td> 0.3213509</td><td> 0.32325249</td><td>-0.3215994</td><td> 0.2088900</td></tr>\n",
       "\t<tr><td>-2.4221858</td><td> 1.8802802</td><td>-0.7749353</td><td>-0.17140146</td><td> 0.6979223</td><td>-0.2113671</td></tr>\n",
       "</tbody>\n",
       "</table>\n"
      ],
      "text/latex": [
       "A matrix: 6 × 6 of type dbl\n",
       "\\begin{tabular}{llllll}\n",
       " Comp.1 & Comp.2 & Comp.3 & Comp.4 & Comp.5 & Comp.6\\\\\n",
       "\\hline\n",
       "\t -1.6478986 & -2.6925346 &  0.1262772 &  0.49475465 &  0.2392171 &  0.2219666\\\\\n",
       "\t -0.2146741 & -0.1240326 & -0.4239115 & -0.08579552 &  0.1923724 &  0.1908807\\\\\n",
       "\t  2.0697681 & -0.5063506 &  0.2721779 & -0.48305343 & -0.4394052 & -0.6211254\\\\\n",
       "\t -1.3370825 & -0.8461801 &  0.9025611 & -0.03120448 & -0.3946255 &  0.4335425\\\\\n",
       "\t  1.4866205 & -0.3468409 &  0.3213509 &  0.32325249 & -0.3215994 &  0.2088900\\\\\n",
       "\t -2.4221858 &  1.8802802 & -0.7749353 & -0.17140146 &  0.6979223 & -0.2113671\\\\\n",
       "\\end{tabular}\n"
      ],
      "text/markdown": [
       "\n",
       "A matrix: 6 × 6 of type dbl\n",
       "\n",
       "| Comp.1 | Comp.2 | Comp.3 | Comp.4 | Comp.5 | Comp.6 |\n",
       "|---|---|---|---|---|---|\n",
       "| -1.6478986 | -2.6925346 |  0.1262772 |  0.49475465 |  0.2392171 |  0.2219666 |\n",
       "| -0.2146741 | -0.1240326 | -0.4239115 | -0.08579552 |  0.1923724 |  0.1908807 |\n",
       "|  2.0697681 | -0.5063506 |  0.2721779 | -0.48305343 | -0.4394052 | -0.6211254 |\n",
       "| -1.3370825 | -0.8461801 |  0.9025611 | -0.03120448 | -0.3946255 |  0.4335425 |\n",
       "|  1.4866205 | -0.3468409 |  0.3213509 |  0.32325249 | -0.3215994 |  0.2088900 |\n",
       "| -2.4221858 |  1.8802802 | -0.7749353 | -0.17140146 |  0.6979223 | -0.2113671 |\n",
       "\n"
      ],
      "text/plain": [
       "     Comp.1     Comp.2     Comp.3     Comp.4      Comp.5     Comp.6    \n",
       "[1,] -1.6478986 -2.6925346  0.1262772  0.49475465  0.2392171  0.2219666\n",
       "[2,] -0.2146741 -0.1240326 -0.4239115 -0.08579552  0.1923724  0.1908807\n",
       "[3,]  2.0697681 -0.5063506  0.2721779 -0.48305343 -0.4394052 -0.6211254\n",
       "[4,] -1.3370825 -0.8461801  0.9025611 -0.03120448 -0.3946255  0.4335425\n",
       "[5,]  1.4866205 -0.3468409  0.3213509  0.32325249 -0.3215994  0.2088900\n",
       "[6,] -2.4221858  1.8802802 -0.7749353 -0.17140146  0.6979223 -0.2113671"
      ]
     },
     "metadata": {},
     "output_type": "display_data"
    }
   ],
   "source": [
    "## compute PCA transformed values using the pca_object\n",
    "\n",
    "head(predict(pca_object,data))"
   ]
  },
  {
   "cell_type": "markdown",
   "metadata": {},
   "source": [
    " "
   ]
  },
  {
   "cell_type": "markdown",
   "metadata": {},
   "source": [
    "### Case Study - House price prediction"
   ]
  },
  {
   "cell_type": "markdown",
   "metadata": {},
   "source": [
    "### Problem Description"
   ]
  },
  {
   "cell_type": "markdown",
   "metadata": {},
   "source": [
    "\n",
    "The data is collected by US Census Service concerning the housing in Boston. Given the\n",
    "attributes related to the area and house, can we predict the house price value. The description\n",
    "of attributes are given below"
   ]
  },
  {
   "cell_type": "markdown",
   "metadata": {},
   "source": [
    "CRIM - per capita crime rate by town\n",
    "\n",
    "ZN - proportion of residential land zoned for lots over 25,000 sq.ft.\n",
    "\n",
    "INDUS - proportion of non-retail business acres per town.\n",
    "\n",
    "CHAS - Charles River dummy variable (1 if tract bounds river; 0 otherwise)\n",
    "\n",
    "NOX - nitric oxides concentration (parts per 10 million)\n",
    "\n",
    "RM - average number of rooms per dwelling\n",
    "\n",
    "AGE - proportion of owner-occupied units built prior to 1940\n",
    "\n",
    "DIS - weighted distances to five Boston employment centres\n",
    "\n",
    "RAD - index of accessibility to radial highways\n",
    "\n",
    "TAX - full-value property-tax rate per $10,000\n",
    "\n",
    "PTRATIO - pupil-teacher ratio by town\n",
    "\n",
    "B - 1000(Bk - 0.63)^2 where Bk is the proportion of blacks by town\n",
    "\n",
    "LSTAT - % lower status of the population\n",
    "\n",
    "MEDV - Median value of owner-occupied homes in $1000's"
   ]
  },
  {
   "cell_type": "code",
   "execution_count": 8,
   "metadata": {},
   "outputs": [],
   "source": [
    "# Read the data\n",
    "data<-read.csv(\"/home/datasets/lab/course_06/Housing_Data.csv\",stringsAsFactors = T)\n"
   ]
  },
  {
   "cell_type": "markdown",
   "metadata": {},
   "source": [
    "### Data Understanding"
   ]
  },
  {
   "cell_type": "markdown",
   "metadata": {},
   "source": [
    "Check the number of observations and attributes\n",
    "\n",
    "Classify independent variables and dependent variable\n",
    "\n",
    "In Linear Regression, the dependent variable is continuous variable.\n",
    "\n",
    "For Multiple Linear Regression we will predict dependent variable with multiple independent variables.\n"
   ]
  },
  {
   "cell_type": "code",
   "execution_count": 9,
   "metadata": {},
   "outputs": [
    {
     "data": {
      "text/html": [
       "<style>\n",
       ".list-inline {list-style: none; margin:0; padding: 0}\n",
       ".list-inline>li {display: inline-block}\n",
       ".list-inline>li:not(:last-child)::after {content: \"\\00b7\"; padding: 0 .5ex}\n",
       "</style>\n",
       "<ol class=list-inline><li>506</li><li>14</li></ol>\n"
      ],
      "text/latex": [
       "\\begin{enumerate*}\n",
       "\\item 506\n",
       "\\item 14\n",
       "\\end{enumerate*}\n"
      ],
      "text/markdown": [
       "1. 506\n",
       "2. 14\n",
       "\n",
       "\n"
      ],
      "text/plain": [
       "[1] 506  14"
      ]
     },
     "metadata": {},
     "output_type": "display_data"
    }
   ],
   "source": [
    "## Dimensions\n",
    "\n",
    "dim(data)"
   ]
  },
  {
   "cell_type": "code",
   "execution_count": 10,
   "metadata": {
    "scrolled": true
   },
   "outputs": [
    {
     "name": "stdout",
     "output_type": "stream",
     "text": [
      "'data.frame':\t506 obs. of  14 variables:\n",
      " $ CRIM : num  0.00632 0.02731 0.02729 0.03237 0.06905 ...\n",
      " $ ZN   : num  18 0 0 0 0 0 12.5 12.5 12.5 12.5 ...\n",
      " $ INDUS: num  2.31 7.07 7.07 2.18 2.18 ...\n",
      " $ CHAS : int  0 0 0 0 0 0 0 0 0 0 ...\n",
      " $ NOX  : num  0.538 0.469 0.469 0.458 0.458 ...\n",
      " $ RM   : num  6.57 6.42 7.18 7 7.15 ...\n",
      " $ AGE  : num  65.2 78.9 61.1 45.8 54.2 ...\n",
      " $ DIS  : num  4.09 4.97 4.97 6.06 6.06 ...\n",
      " $ RAD  : int  1 2 2 3 3 3 5 5 5 5 ...\n",
      " $ TAX  : int  296 242 242 222 222 222 311 311 311 311 ...\n",
      " $ PT   : num  15.3 17.8 17.8 18.7 18.7 ...\n",
      " $ B    : num  391 397 393 395 397 ...\n",
      " $ LSTAT: num  4.98 9.14 4.03 2.94 5.33 ...\n",
      " $ MV   : num  24 21.6 34.7 33.4 36.2 ...\n"
     ]
    }
   ],
   "source": [
    "## Structure\n",
    "\n",
    "str(data)"
   ]
  },
  {
   "cell_type": "code",
   "execution_count": 11,
   "metadata": {
    "scrolled": true
   },
   "outputs": [
    {
     "data": {
      "text/html": [
       "<table class=\"dataframe\">\n",
       "<caption>A data.frame: 6 × 14</caption>\n",
       "<thead>\n",
       "\t<tr><th></th><th scope=col>CRIM</th><th scope=col>ZN</th><th scope=col>INDUS</th><th scope=col>CHAS</th><th scope=col>NOX</th><th scope=col>RM</th><th scope=col>AGE</th><th scope=col>DIS</th><th scope=col>RAD</th><th scope=col>TAX</th><th scope=col>PT</th><th scope=col>B</th><th scope=col>LSTAT</th><th scope=col>MV</th></tr>\n",
       "\t<tr><th></th><th scope=col>&lt;dbl&gt;</th><th scope=col>&lt;dbl&gt;</th><th scope=col>&lt;dbl&gt;</th><th scope=col>&lt;int&gt;</th><th scope=col>&lt;dbl&gt;</th><th scope=col>&lt;dbl&gt;</th><th scope=col>&lt;dbl&gt;</th><th scope=col>&lt;dbl&gt;</th><th scope=col>&lt;int&gt;</th><th scope=col>&lt;int&gt;</th><th scope=col>&lt;dbl&gt;</th><th scope=col>&lt;dbl&gt;</th><th scope=col>&lt;dbl&gt;</th><th scope=col>&lt;dbl&gt;</th></tr>\n",
       "</thead>\n",
       "<tbody>\n",
       "\t<tr><th scope=row>1</th><td>0.00632</td><td>18</td><td>2.31</td><td>0</td><td>0.538</td><td>6.575</td><td>65.2</td><td>4.0900</td><td>1</td><td>296</td><td>15.3</td><td>391.34</td><td>4.98</td><td>24.0</td></tr>\n",
       "\t<tr><th scope=row>2</th><td>0.02731</td><td> 0</td><td>7.07</td><td>0</td><td>0.469</td><td>6.421</td><td>78.9</td><td>4.9671</td><td>2</td><td>242</td><td>17.8</td><td>396.90</td><td>9.14</td><td>21.6</td></tr>\n",
       "\t<tr><th scope=row>3</th><td>0.02729</td><td> 0</td><td>7.07</td><td>0</td><td>0.469</td><td>7.185</td><td>61.1</td><td>4.9671</td><td>2</td><td>242</td><td>17.8</td><td>392.83</td><td>4.03</td><td>34.7</td></tr>\n",
       "\t<tr><th scope=row>4</th><td>0.03237</td><td> 0</td><td>2.18</td><td>0</td><td>0.458</td><td>6.998</td><td>45.8</td><td>6.0622</td><td>3</td><td>222</td><td>18.7</td><td>394.63</td><td>2.94</td><td>33.4</td></tr>\n",
       "\t<tr><th scope=row>5</th><td>0.06905</td><td> 0</td><td>2.18</td><td>0</td><td>0.458</td><td>7.147</td><td>54.2</td><td>6.0622</td><td>3</td><td>222</td><td>18.7</td><td>396.90</td><td>5.33</td><td>36.2</td></tr>\n",
       "\t<tr><th scope=row>6</th><td>0.02985</td><td> 0</td><td>2.18</td><td>0</td><td>0.458</td><td>6.430</td><td>58.7</td><td>6.0622</td><td>3</td><td>222</td><td>18.7</td><td>394.12</td><td>5.21</td><td>28.7</td></tr>\n",
       "</tbody>\n",
       "</table>\n"
      ],
      "text/latex": [
       "A data.frame: 6 × 14\n",
       "\\begin{tabular}{r|llllllllllllll}\n",
       "  & CRIM & ZN & INDUS & CHAS & NOX & RM & AGE & DIS & RAD & TAX & PT & B & LSTAT & MV\\\\\n",
       "  & <dbl> & <dbl> & <dbl> & <int> & <dbl> & <dbl> & <dbl> & <dbl> & <int> & <int> & <dbl> & <dbl> & <dbl> & <dbl>\\\\\n",
       "\\hline\n",
       "\t1 & 0.00632 & 18 & 2.31 & 0 & 0.538 & 6.575 & 65.2 & 4.0900 & 1 & 296 & 15.3 & 391.34 & 4.98 & 24.0\\\\\n",
       "\t2 & 0.02731 &  0 & 7.07 & 0 & 0.469 & 6.421 & 78.9 & 4.9671 & 2 & 242 & 17.8 & 396.90 & 9.14 & 21.6\\\\\n",
       "\t3 & 0.02729 &  0 & 7.07 & 0 & 0.469 & 7.185 & 61.1 & 4.9671 & 2 & 242 & 17.8 & 392.83 & 4.03 & 34.7\\\\\n",
       "\t4 & 0.03237 &  0 & 2.18 & 0 & 0.458 & 6.998 & 45.8 & 6.0622 & 3 & 222 & 18.7 & 394.63 & 2.94 & 33.4\\\\\n",
       "\t5 & 0.06905 &  0 & 2.18 & 0 & 0.458 & 7.147 & 54.2 & 6.0622 & 3 & 222 & 18.7 & 396.90 & 5.33 & 36.2\\\\\n",
       "\t6 & 0.02985 &  0 & 2.18 & 0 & 0.458 & 6.430 & 58.7 & 6.0622 & 3 & 222 & 18.7 & 394.12 & 5.21 & 28.7\\\\\n",
       "\\end{tabular}\n"
      ],
      "text/markdown": [
       "\n",
       "A data.frame: 6 × 14\n",
       "\n",
       "| <!--/--> | CRIM &lt;dbl&gt; | ZN &lt;dbl&gt; | INDUS &lt;dbl&gt; | CHAS &lt;int&gt; | NOX &lt;dbl&gt; | RM &lt;dbl&gt; | AGE &lt;dbl&gt; | DIS &lt;dbl&gt; | RAD &lt;int&gt; | TAX &lt;int&gt; | PT &lt;dbl&gt; | B &lt;dbl&gt; | LSTAT &lt;dbl&gt; | MV &lt;dbl&gt; |\n",
       "|---|---|---|---|---|---|---|---|---|---|---|---|---|---|---|\n",
       "| 1 | 0.00632 | 18 | 2.31 | 0 | 0.538 | 6.575 | 65.2 | 4.0900 | 1 | 296 | 15.3 | 391.34 | 4.98 | 24.0 |\n",
       "| 2 | 0.02731 |  0 | 7.07 | 0 | 0.469 | 6.421 | 78.9 | 4.9671 | 2 | 242 | 17.8 | 396.90 | 9.14 | 21.6 |\n",
       "| 3 | 0.02729 |  0 | 7.07 | 0 | 0.469 | 7.185 | 61.1 | 4.9671 | 2 | 242 | 17.8 | 392.83 | 4.03 | 34.7 |\n",
       "| 4 | 0.03237 |  0 | 2.18 | 0 | 0.458 | 6.998 | 45.8 | 6.0622 | 3 | 222 | 18.7 | 394.63 | 2.94 | 33.4 |\n",
       "| 5 | 0.06905 |  0 | 2.18 | 0 | 0.458 | 7.147 | 54.2 | 6.0622 | 3 | 222 | 18.7 | 396.90 | 5.33 | 36.2 |\n",
       "| 6 | 0.02985 |  0 | 2.18 | 0 | 0.458 | 6.430 | 58.7 | 6.0622 | 3 | 222 | 18.7 | 394.12 | 5.21 | 28.7 |\n",
       "\n"
      ],
      "text/plain": [
       "  CRIM    ZN INDUS CHAS NOX   RM    AGE  DIS    RAD TAX PT   B      LSTAT MV  \n",
       "1 0.00632 18 2.31  0    0.538 6.575 65.2 4.0900 1   296 15.3 391.34 4.98  24.0\n",
       "2 0.02731  0 7.07  0    0.469 6.421 78.9 4.9671 2   242 17.8 396.90 9.14  21.6\n",
       "3 0.02729  0 7.07  0    0.469 7.185 61.1 4.9671 2   242 17.8 392.83 4.03  34.7\n",
       "4 0.03237  0 2.18  0    0.458 6.998 45.8 6.0622 3   222 18.7 394.63 2.94  33.4\n",
       "5 0.06905  0 2.18  0    0.458 7.147 54.2 6.0622 3   222 18.7 396.90 5.33  36.2\n",
       "6 0.02985  0 2.18  0    0.458 6.430 58.7 6.0622 3   222 18.7 394.12 5.21  28.7"
      ]
     },
     "metadata": {},
     "output_type": "display_data"
    }
   ],
   "source": [
    "## First few rows\n",
    "\n",
    "head(data)"
   ]
  },
  {
   "cell_type": "code",
   "execution_count": 12,
   "metadata": {},
   "outputs": [
    {
     "data": {
      "text/html": [
       "<table class=\"dataframe\">\n",
       "<caption>A data.frame: 6 × 14</caption>\n",
       "<thead>\n",
       "\t<tr><th></th><th scope=col>CRIM</th><th scope=col>ZN</th><th scope=col>INDUS</th><th scope=col>CHAS</th><th scope=col>NOX</th><th scope=col>RM</th><th scope=col>AGE</th><th scope=col>DIS</th><th scope=col>RAD</th><th scope=col>TAX</th><th scope=col>PT</th><th scope=col>B</th><th scope=col>LSTAT</th><th scope=col>MV</th></tr>\n",
       "\t<tr><th></th><th scope=col>&lt;dbl&gt;</th><th scope=col>&lt;dbl&gt;</th><th scope=col>&lt;dbl&gt;</th><th scope=col>&lt;int&gt;</th><th scope=col>&lt;dbl&gt;</th><th scope=col>&lt;dbl&gt;</th><th scope=col>&lt;dbl&gt;</th><th scope=col>&lt;dbl&gt;</th><th scope=col>&lt;int&gt;</th><th scope=col>&lt;int&gt;</th><th scope=col>&lt;dbl&gt;</th><th scope=col>&lt;dbl&gt;</th><th scope=col>&lt;dbl&gt;</th><th scope=col>&lt;dbl&gt;</th></tr>\n",
       "</thead>\n",
       "<tbody>\n",
       "\t<tr><th scope=row>501</th><td>0.22438</td><td>0</td><td> 9.69</td><td>0</td><td>0.585</td><td>6.027</td><td>79.7</td><td>2.4982</td><td>6</td><td>391</td><td>19.2</td><td>396.90</td><td>14.33</td><td>16.8</td></tr>\n",
       "\t<tr><th scope=row>502</th><td>0.06263</td><td>0</td><td>11.93</td><td>0</td><td>0.573</td><td>6.593</td><td>69.1</td><td>2.4786</td><td>1</td><td>273</td><td>21.0</td><td>391.99</td><td> 9.67</td><td>22.4</td></tr>\n",
       "\t<tr><th scope=row>503</th><td>0.04527</td><td>0</td><td>11.93</td><td>0</td><td>0.573</td><td>6.120</td><td>76.7</td><td>2.2875</td><td>1</td><td>273</td><td>21.0</td><td>396.90</td><td> 9.08</td><td>20.6</td></tr>\n",
       "\t<tr><th scope=row>504</th><td>0.06076</td><td>0</td><td>11.93</td><td>0</td><td>0.538</td><td>6.976</td><td>91.0</td><td>2.1675</td><td>1</td><td>273</td><td>21.0</td><td>396.90</td><td> 5.64</td><td>23.9</td></tr>\n",
       "\t<tr><th scope=row>505</th><td>0.10959</td><td>0</td><td>11.93</td><td>0</td><td>0.573</td><td>6.794</td><td>89.3</td><td>2.3889</td><td>1</td><td>273</td><td>21.0</td><td>393.45</td><td> 6.48</td><td>22.0</td></tr>\n",
       "\t<tr><th scope=row>506</th><td>0.04741</td><td>0</td><td>11.93</td><td>0</td><td>0.573</td><td>6.030</td><td>80.8</td><td>2.5050</td><td>1</td><td>273</td><td>21.0</td><td>396.90</td><td> 7.88</td><td>11.9</td></tr>\n",
       "</tbody>\n",
       "</table>\n"
      ],
      "text/latex": [
       "A data.frame: 6 × 14\n",
       "\\begin{tabular}{r|llllllllllllll}\n",
       "  & CRIM & ZN & INDUS & CHAS & NOX & RM & AGE & DIS & RAD & TAX & PT & B & LSTAT & MV\\\\\n",
       "  & <dbl> & <dbl> & <dbl> & <int> & <dbl> & <dbl> & <dbl> & <dbl> & <int> & <int> & <dbl> & <dbl> & <dbl> & <dbl>\\\\\n",
       "\\hline\n",
       "\t501 & 0.22438 & 0 &  9.69 & 0 & 0.585 & 6.027 & 79.7 & 2.4982 & 6 & 391 & 19.2 & 396.90 & 14.33 & 16.8\\\\\n",
       "\t502 & 0.06263 & 0 & 11.93 & 0 & 0.573 & 6.593 & 69.1 & 2.4786 & 1 & 273 & 21.0 & 391.99 &  9.67 & 22.4\\\\\n",
       "\t503 & 0.04527 & 0 & 11.93 & 0 & 0.573 & 6.120 & 76.7 & 2.2875 & 1 & 273 & 21.0 & 396.90 &  9.08 & 20.6\\\\\n",
       "\t504 & 0.06076 & 0 & 11.93 & 0 & 0.538 & 6.976 & 91.0 & 2.1675 & 1 & 273 & 21.0 & 396.90 &  5.64 & 23.9\\\\\n",
       "\t505 & 0.10959 & 0 & 11.93 & 0 & 0.573 & 6.794 & 89.3 & 2.3889 & 1 & 273 & 21.0 & 393.45 &  6.48 & 22.0\\\\\n",
       "\t506 & 0.04741 & 0 & 11.93 & 0 & 0.573 & 6.030 & 80.8 & 2.5050 & 1 & 273 & 21.0 & 396.90 &  7.88 & 11.9\\\\\n",
       "\\end{tabular}\n"
      ],
      "text/markdown": [
       "\n",
       "A data.frame: 6 × 14\n",
       "\n",
       "| <!--/--> | CRIM &lt;dbl&gt; | ZN &lt;dbl&gt; | INDUS &lt;dbl&gt; | CHAS &lt;int&gt; | NOX &lt;dbl&gt; | RM &lt;dbl&gt; | AGE &lt;dbl&gt; | DIS &lt;dbl&gt; | RAD &lt;int&gt; | TAX &lt;int&gt; | PT &lt;dbl&gt; | B &lt;dbl&gt; | LSTAT &lt;dbl&gt; | MV &lt;dbl&gt; |\n",
       "|---|---|---|---|---|---|---|---|---|---|---|---|---|---|---|\n",
       "| 501 | 0.22438 | 0 |  9.69 | 0 | 0.585 | 6.027 | 79.7 | 2.4982 | 6 | 391 | 19.2 | 396.90 | 14.33 | 16.8 |\n",
       "| 502 | 0.06263 | 0 | 11.93 | 0 | 0.573 | 6.593 | 69.1 | 2.4786 | 1 | 273 | 21.0 | 391.99 |  9.67 | 22.4 |\n",
       "| 503 | 0.04527 | 0 | 11.93 | 0 | 0.573 | 6.120 | 76.7 | 2.2875 | 1 | 273 | 21.0 | 396.90 |  9.08 | 20.6 |\n",
       "| 504 | 0.06076 | 0 | 11.93 | 0 | 0.538 | 6.976 | 91.0 | 2.1675 | 1 | 273 | 21.0 | 396.90 |  5.64 | 23.9 |\n",
       "| 505 | 0.10959 | 0 | 11.93 | 0 | 0.573 | 6.794 | 89.3 | 2.3889 | 1 | 273 | 21.0 | 393.45 |  6.48 | 22.0 |\n",
       "| 506 | 0.04741 | 0 | 11.93 | 0 | 0.573 | 6.030 | 80.8 | 2.5050 | 1 | 273 | 21.0 | 396.90 |  7.88 | 11.9 |\n",
       "\n"
      ],
      "text/plain": [
       "    CRIM    ZN INDUS CHAS NOX   RM    AGE  DIS    RAD TAX PT   B      LSTAT\n",
       "501 0.22438 0   9.69 0    0.585 6.027 79.7 2.4982 6   391 19.2 396.90 14.33\n",
       "502 0.06263 0  11.93 0    0.573 6.593 69.1 2.4786 1   273 21.0 391.99  9.67\n",
       "503 0.04527 0  11.93 0    0.573 6.120 76.7 2.2875 1   273 21.0 396.90  9.08\n",
       "504 0.06076 0  11.93 0    0.538 6.976 91.0 2.1675 1   273 21.0 396.90  5.64\n",
       "505 0.10959 0  11.93 0    0.573 6.794 89.3 2.3889 1   273 21.0 393.45  6.48\n",
       "506 0.04741 0  11.93 0    0.573 6.030 80.8 2.5050 1   273 21.0 396.90  7.88\n",
       "    MV  \n",
       "501 16.8\n",
       "502 22.4\n",
       "503 20.6\n",
       "504 23.9\n",
       "505 22.0\n",
       "506 11.9"
      ]
     },
     "metadata": {},
     "output_type": "display_data"
    }
   ],
   "source": [
    "## Last few rows\n",
    "\n",
    "tail(data)"
   ]
  },
  {
   "cell_type": "markdown",
   "metadata": {},
   "source": [
    "### Summary Statistics"
   ]
  },
  {
   "cell_type": "code",
   "execution_count": 13,
   "metadata": {},
   "outputs": [
    {
     "data": {
      "text/plain": [
       "      CRIM                ZN             INDUS            CHAS        \n",
       " Min.   : 0.00632   Min.   :  0.00   Min.   : 0.46   Min.   :0.00000  \n",
       " 1st Qu.: 0.08227   1st Qu.:  0.00   1st Qu.: 5.19   1st Qu.:0.00000  \n",
       " Median : 0.26169   Median :  0.00   Median : 9.69   Median :0.00000  \n",
       " Mean   : 3.59671   Mean   : 11.17   Mean   :11.13   Mean   :0.06917  \n",
       " 3rd Qu.: 3.64742   3rd Qu.: 12.50   3rd Qu.:18.10   3rd Qu.:0.00000  \n",
       " Max.   :88.97620   Max.   :100.00   Max.   :27.74   Max.   :1.00000  \n",
       "                                                                      \n",
       "      NOX               RM             AGE              DIS        \n",
       " Min.   :0.3850   Min.   :3.561   Min.   :  2.90   Min.   : 1.130  \n",
       " 1st Qu.:0.4490   1st Qu.:5.888   1st Qu.: 45.02   1st Qu.: 2.101  \n",
       " Median :0.5380   Median :6.209   Median : 77.70   Median : 3.191  \n",
       " Mean   :0.5538   Mean   :6.288   Mean   : 68.55   Mean   : 3.787  \n",
       " 3rd Qu.:0.6240   3rd Qu.:6.623   3rd Qu.: 93.97   3rd Qu.: 5.118  \n",
       " Max.   :0.8710   Max.   :8.780   Max.   :100.00   Max.   :12.127  \n",
       "                                                                   \n",
       "      RAD              TAX              PT              B         \n",
       " Min.   : 1.000   Min.   :187.0   Min.   :12.60   Min.   :  0.32  \n",
       " 1st Qu.: 4.000   1st Qu.:280.2   1st Qu.:17.40   1st Qu.:375.38  \n",
       " Median : 5.000   Median :330.0   Median :19.10   Median :391.34  \n",
       " Mean   : 9.516   Mean   :406.9   Mean   :18.47   Mean   :356.65  \n",
       " 3rd Qu.:24.000   3rd Qu.:666.0   3rd Qu.:20.20   3rd Qu.:396.21  \n",
       " Max.   :24.000   Max.   :711.0   Max.   :22.00   Max.   :396.90  \n",
       "                                                                  \n",
       "     LSTAT              MV       \n",
       " Min.   : 1.730   Min.   : 5.00  \n",
       " 1st Qu.: 7.125   1st Qu.:17.07  \n",
       " Median :11.430   Median :21.20  \n",
       " Mean   :12.633   Mean   :22.56  \n",
       " 3rd Qu.:16.860   3rd Qu.:25.00  \n",
       " Max.   :37.970   Max.   :50.00  \n",
       "                  NA's   :6      "
      ]
     },
     "metadata": {},
     "output_type": "display_data"
    }
   ],
   "source": [
    "summary(data)"
   ]
  },
  {
   "cell_type": "markdown",
   "metadata": {},
   "source": [
    "### Split the data into Train and Validation sets"
   ]
  },
  {
   "cell_type": "code",
   "execution_count": 14,
   "metadata": {},
   "outputs": [],
   "source": [
    "## Split row numbers into 2 sets\n",
    "set.seed(1)\n",
    "train_rows = sample(1:nrow(data), size=0.7*nrow(data))\n",
    "validation_rows = setdiff(1:nrow(data),train_rows)"
   ]
  },
  {
   "cell_type": "code",
   "execution_count": 15,
   "metadata": {},
   "outputs": [],
   "source": [
    "## Subset into Train and Validation sets\n",
    "train_data <- data[train_rows,]\n",
    "validation_data <- data[validation_rows,]"
   ]
  },
  {
   "cell_type": "code",
   "execution_count": 16,
   "metadata": {},
   "outputs": [
    {
     "data": {
      "text/html": [
       "<style>\n",
       ".list-inline {list-style: none; margin:0; padding: 0}\n",
       ".list-inline>li {display: inline-block}\n",
       ".list-inline>li:not(:last-child)::after {content: \"\\00b7\"; padding: 0 .5ex}\n",
       "</style>\n",
       "<ol class=list-inline><li>506</li><li>14</li></ol>\n"
      ],
      "text/latex": [
       "\\begin{enumerate*}\n",
       "\\item 506\n",
       "\\item 14\n",
       "\\end{enumerate*}\n"
      ],
      "text/markdown": [
       "1. 506\n",
       "2. 14\n",
       "\n",
       "\n"
      ],
      "text/plain": [
       "[1] 506  14"
      ]
     },
     "metadata": {},
     "output_type": "display_data"
    },
    {
     "data": {
      "text/html": [
       "<style>\n",
       ".list-inline {list-style: none; margin:0; padding: 0}\n",
       ".list-inline>li {display: inline-block}\n",
       ".list-inline>li:not(:last-child)::after {content: \"\\00b7\"; padding: 0 .5ex}\n",
       "</style>\n",
       "<ol class=list-inline><li>354</li><li>14</li></ol>\n"
      ],
      "text/latex": [
       "\\begin{enumerate*}\n",
       "\\item 354\n",
       "\\item 14\n",
       "\\end{enumerate*}\n"
      ],
      "text/markdown": [
       "1. 354\n",
       "2. 14\n",
       "\n",
       "\n"
      ],
      "text/plain": [
       "[1] 354  14"
      ]
     },
     "metadata": {},
     "output_type": "display_data"
    },
    {
     "data": {
      "text/html": [
       "<style>\n",
       ".list-inline {list-style: none; margin:0; padding: 0}\n",
       ".list-inline>li {display: inline-block}\n",
       ".list-inline>li:not(:last-child)::after {content: \"\\00b7\"; padding: 0 .5ex}\n",
       "</style>\n",
       "<ol class=list-inline><li>152</li><li>14</li></ol>\n"
      ],
      "text/latex": [
       "\\begin{enumerate*}\n",
       "\\item 152\n",
       "\\item 14\n",
       "\\end{enumerate*}\n"
      ],
      "text/markdown": [
       "1. 152\n",
       "2. 14\n",
       "\n",
       "\n"
      ],
      "text/plain": [
       "[1] 152  14"
      ]
     },
     "metadata": {},
     "output_type": "display_data"
    }
   ],
   "source": [
    "## View the dimensions of the data\n",
    "dim(data)\n",
    "dim(train_data)\n",
    "dim(validation_data)"
   ]
  },
  {
   "cell_type": "markdown",
   "metadata": {},
   "source": [
    "### Data Type Conversion\n",
    "Check if any data type conversions have to be done.\n"
   ]
  },
  {
   "cell_type": "code",
   "execution_count": 17,
   "metadata": {
    "scrolled": true
   },
   "outputs": [
    {
     "name": "stdout",
     "output_type": "stream",
     "text": [
      "'data.frame':\t354 obs. of  14 variables:\n",
      " $ CRIM : num  0.11 0.284 2.01 0.325 25.941 ...\n",
      " $ ZN   : num  0 0 0 0 0 0 70 20 0 0 ...\n",
      " $ INDUS: num  11.93 9.69 19.58 21.89 18.1 ...\n",
      " $ CHAS : int  0 0 0 0 0 0 0 1 0 0 ...\n",
      " $ NOX  : num  0.573 0.493 0.605 0.624 0.679 ...\n",
      " $ RM   : num  6.79 5.71 7.93 6.43 5.3 ...\n",
      " $ AGE  : num  89.3 74.3 96.2 98.8 89.1 ...\n",
      " $ DIS  : num  2.39 4.72 2.05 1.81 1.65 ...\n",
      " $ RAD  : int  1 5 5 4 24 24 5 3 24 3 ...\n",
      " $ TAX  : int  273 287 403 437 666 666 358 223 666 193 ...\n",
      " $ PT   : num  21 19.6 14.7 21.2 20.2 ...\n",
      " $ B    : num  393 391 369 397 127 ...\n",
      " $ LSTAT: num  6.48 11.74 3.7 15.39 26.64 ...\n",
      " $ MV   : num  22 18.5 50 18 10.4 ...\n"
     ]
    }
   ],
   "source": [
    "str(train_data)"
   ]
  },
  {
   "cell_type": "code",
   "execution_count": 18,
   "metadata": {
    "scrolled": true
   },
   "outputs": [
    {
     "name": "stdout",
     "output_type": "stream",
     "text": [
      "'data.frame':\t152 obs. of  14 variables:\n",
      " $ CRIM : num  0.069 0.0299 0.0883 0.1445 0.2112 ...\n",
      " $ ZN   : num  0 0 12.5 12.5 12.5 12.5 12.5 12.5 0 0 ...\n",
      " $ INDUS: num  2.18 2.18 7.87 7.87 7.87 ...\n",
      " $ CHAS : int  0 0 0 0 0 0 0 0 0 0 ...\n",
      " $ NOX  : num  0.458 0.458 0.524 0.524 0.524 ...\n",
      " $ RM   : num  7.15 6.43 6.01 6.17 5.63 ...\n",
      " $ AGE  : num  54.2 58.7 66.6 96.1 100 ...\n",
      " $ DIS  : num  6.06 6.06 5.56 5.95 6.08 ...\n",
      " $ RAD  : int  3 3 5 5 5 5 5 5 4 4 ...\n",
      " $ TAX  : int  222 222 311 311 311 311 311 311 307 307 ...\n",
      " $ PT   : num  18.7 18.7 15.2 15.2 15.2 ...\n",
      " $ B    : num  397 394 396 397 387 ...\n",
      " $ LSTAT: num  5.33 5.21 12.43 19.15 11.43 ...\n",
      " $ MV   : num  36.2 28.7 22.9 27.1 16.5 ...\n"
     ]
    }
   ],
   "source": [
    "str(validation_data)"
   ]
  },
  {
   "cell_type": "code",
   "execution_count": 19,
   "metadata": {},
   "outputs": [],
   "source": [
    "#Convert \"CHAS\" to factor variable\n",
    "train_data$CHAS <- as.factor(as.character(train_data$CHAS))\n",
    "validation_data$CHAS  <- as.factor(as.character(validation_data$CHAS))\n",
    "\n",
    "#Convert \"RAD\" to factor variable\n",
    "train_data$RAD <- as.factor(train_data$RAD)\n",
    "validation_data$RAD  <- as.factor(validation_data$RAD)\n",
    "\n"
   ]
  },
  {
   "cell_type": "code",
   "execution_count": 20,
   "metadata": {
    "scrolled": true
   },
   "outputs": [
    {
     "name": "stdout",
     "output_type": "stream",
     "text": [
      "'data.frame':\t354 obs. of  14 variables:\n",
      " $ CRIM : num  0.11 0.284 2.01 0.325 25.941 ...\n",
      " $ ZN   : num  0 0 0 0 0 0 70 20 0 0 ...\n",
      " $ INDUS: num  11.93 9.69 19.58 21.89 18.1 ...\n",
      " $ CHAS : Factor w/ 2 levels \"0\",\"1\": 1 1 1 1 1 1 1 2 1 1 ...\n",
      " $ NOX  : num  0.573 0.493 0.605 0.624 0.679 ...\n",
      " $ RM   : num  6.79 5.71 7.93 6.43 5.3 ...\n",
      " $ AGE  : num  89.3 74.3 96.2 98.8 89.1 ...\n",
      " $ DIS  : num  2.39 4.72 2.05 1.81 1.65 ...\n",
      " $ RAD  : Factor w/ 9 levels \"1\",\"2\",\"3\",\"4\",..: 1 5 5 4 9 9 5 3 9 3 ...\n",
      " $ TAX  : int  273 287 403 437 666 666 358 223 666 193 ...\n",
      " $ PT   : num  21 19.6 14.7 21.2 20.2 ...\n",
      " $ B    : num  393 391 369 397 127 ...\n",
      " $ LSTAT: num  6.48 11.74 3.7 15.39 26.64 ...\n",
      " $ MV   : num  22 18.5 50 18 10.4 ...\n"
     ]
    }
   ],
   "source": [
    "str(train_data)"
   ]
  },
  {
   "cell_type": "code",
   "execution_count": 21,
   "metadata": {},
   "outputs": [
    {
     "name": "stdout",
     "output_type": "stream",
     "text": [
      "'data.frame':\t152 obs. of  14 variables:\n",
      " $ CRIM : num  0.069 0.0299 0.0883 0.1445 0.2112 ...\n",
      " $ ZN   : num  0 0 12.5 12.5 12.5 12.5 12.5 12.5 0 0 ...\n",
      " $ INDUS: num  2.18 2.18 7.87 7.87 7.87 ...\n",
      " $ CHAS : Factor w/ 2 levels \"0\",\"1\": 1 1 1 1 1 1 1 1 1 1 ...\n",
      " $ NOX  : num  0.458 0.458 0.524 0.524 0.524 ...\n",
      " $ RM   : num  7.15 6.43 6.01 6.17 5.63 ...\n",
      " $ AGE  : num  54.2 58.7 66.6 96.1 100 ...\n",
      " $ DIS  : num  6.06 6.06 5.56 5.95 6.08 ...\n",
      " $ RAD  : Factor w/ 9 levels \"1\",\"2\",\"3\",\"4\",..: 3 3 5 5 5 5 5 5 4 4 ...\n",
      " $ TAX  : int  222 222 311 311 311 311 311 311 307 307 ...\n",
      " $ PT   : num  18.7 18.7 15.2 15.2 15.2 ...\n",
      " $ B    : num  397 394 396 397 387 ...\n",
      " $ LSTAT: num  5.33 5.21 12.43 19.15 11.43 ...\n",
      " $ MV   : num  36.2 28.7 22.9 27.1 16.5 ...\n"
     ]
    }
   ],
   "source": [
    "str(validation_data)"
   ]
  },
  {
   "cell_type": "markdown",
   "metadata": {},
   "source": [
    "### Handling Missing values"
   ]
  },
  {
   "cell_type": "code",
   "execution_count": 22,
   "metadata": {},
   "outputs": [
    {
     "data": {
      "text/html": [
       "4"
      ],
      "text/latex": [
       "4"
      ],
      "text/markdown": [
       "4"
      ],
      "text/plain": [
       "[1] 4"
      ]
     },
     "metadata": {},
     "output_type": "display_data"
    },
    {
     "data": {
      "text/html": [
       "2"
      ],
      "text/latex": [
       "2"
      ],
      "text/markdown": [
       "2"
      ],
      "text/plain": [
       "[1] 2"
      ]
     },
     "metadata": {},
     "output_type": "display_data"
    }
   ],
   "source": [
    "# Missing values\n",
    "sum(is.na(train_data))\n",
    "\n",
    "sum(is.na(validation_data))"
   ]
  },
  {
   "cell_type": "code",
   "execution_count": 23,
   "metadata": {},
   "outputs": [
    {
     "data": {
      "text/html": [
       "<style>\n",
       ".dl-inline {width: auto; margin:0; padding: 0}\n",
       ".dl-inline>dt, .dl-inline>dd {float: none; width: auto; display: inline-block}\n",
       ".dl-inline>dt::after {content: \":\\0020\"; padding-right: .5ex}\n",
       ".dl-inline>dt:not(:first-of-type) {padding-left: .5ex}\n",
       "</style><dl class=dl-inline><dt>CRIM</dt><dd>0</dd><dt>ZN</dt><dd>0</dd><dt>INDUS</dt><dd>0</dd><dt>CHAS</dt><dd>0</dd><dt>NOX</dt><dd>0</dd><dt>RM</dt><dd>0</dd><dt>AGE</dt><dd>0</dd><dt>DIS</dt><dd>0</dd><dt>RAD</dt><dd>0</dd><dt>TAX</dt><dd>0</dd><dt>PT</dt><dd>0</dd><dt>B</dt><dd>0</dd><dt>LSTAT</dt><dd>0</dd><dt>MV</dt><dd>4</dd></dl>\n"
      ],
      "text/latex": [
       "\\begin{description*}\n",
       "\\item[CRIM] 0\n",
       "\\item[ZN] 0\n",
       "\\item[INDUS] 0\n",
       "\\item[CHAS] 0\n",
       "\\item[NOX] 0\n",
       "\\item[RM] 0\n",
       "\\item[AGE] 0\n",
       "\\item[DIS] 0\n",
       "\\item[RAD] 0\n",
       "\\item[TAX] 0\n",
       "\\item[PT] 0\n",
       "\\item[B] 0\n",
       "\\item[LSTAT] 0\n",
       "\\item[MV] 4\n",
       "\\end{description*}\n"
      ],
      "text/markdown": [
       "CRIM\n",
       ":   0ZN\n",
       ":   0INDUS\n",
       ":   0CHAS\n",
       ":   0NOX\n",
       ":   0RM\n",
       ":   0AGE\n",
       ":   0DIS\n",
       ":   0RAD\n",
       ":   0TAX\n",
       ":   0PT\n",
       ":   0B\n",
       ":   0LSTAT\n",
       ":   0MV\n",
       ":   4\n",
       "\n"
      ],
      "text/plain": [
       " CRIM    ZN INDUS  CHAS   NOX    RM   AGE   DIS   RAD   TAX    PT     B LSTAT \n",
       "    0     0     0     0     0     0     0     0     0     0     0     0     0 \n",
       "   MV \n",
       "    4 "
      ]
     },
     "metadata": {},
     "output_type": "display_data"
    },
    {
     "data": {
      "text/html": [
       "<style>\n",
       ".dl-inline {width: auto; margin:0; padding: 0}\n",
       ".dl-inline>dt, .dl-inline>dd {float: none; width: auto; display: inline-block}\n",
       ".dl-inline>dt::after {content: \":\\0020\"; padding-right: .5ex}\n",
       ".dl-inline>dt:not(:first-of-type) {padding-left: .5ex}\n",
       "</style><dl class=dl-inline><dt>CRIM</dt><dd>0</dd><dt>ZN</dt><dd>0</dd><dt>INDUS</dt><dd>0</dd><dt>CHAS</dt><dd>0</dd><dt>NOX</dt><dd>0</dd><dt>RM</dt><dd>0</dd><dt>AGE</dt><dd>0</dd><dt>DIS</dt><dd>0</dd><dt>RAD</dt><dd>0</dd><dt>TAX</dt><dd>0</dd><dt>PT</dt><dd>0</dd><dt>B</dt><dd>0</dd><dt>LSTAT</dt><dd>0</dd><dt>MV</dt><dd>2</dd></dl>\n"
      ],
      "text/latex": [
       "\\begin{description*}\n",
       "\\item[CRIM] 0\n",
       "\\item[ZN] 0\n",
       "\\item[INDUS] 0\n",
       "\\item[CHAS] 0\n",
       "\\item[NOX] 0\n",
       "\\item[RM] 0\n",
       "\\item[AGE] 0\n",
       "\\item[DIS] 0\n",
       "\\item[RAD] 0\n",
       "\\item[TAX] 0\n",
       "\\item[PT] 0\n",
       "\\item[B] 0\n",
       "\\item[LSTAT] 0\n",
       "\\item[MV] 2\n",
       "\\end{description*}\n"
      ],
      "text/markdown": [
       "CRIM\n",
       ":   0ZN\n",
       ":   0INDUS\n",
       ":   0CHAS\n",
       ":   0NOX\n",
       ":   0RM\n",
       ":   0AGE\n",
       ":   0DIS\n",
       ":   0RAD\n",
       ":   0TAX\n",
       ":   0PT\n",
       ":   0B\n",
       ":   0LSTAT\n",
       ":   0MV\n",
       ":   2\n",
       "\n"
      ],
      "text/plain": [
       " CRIM    ZN INDUS  CHAS   NOX    RM   AGE   DIS   RAD   TAX    PT     B LSTAT \n",
       "    0     0     0     0     0     0     0     0     0     0     0     0     0 \n",
       "   MV \n",
       "    2 "
      ]
     },
     "metadata": {},
     "output_type": "display_data"
    }
   ],
   "source": [
    "## Check column wise missing values\n",
    "colSums(is.na(train_data))\n",
    "\n",
    "colSums(is.na(validation_data))"
   ]
  },
  {
   "cell_type": "code",
   "execution_count": 24,
   "metadata": {},
   "outputs": [],
   "source": [
    "#In this problem we are trying to predict the median value of house given the features. \n",
    "# But we have missing values in the target. So there is no point in imputing them.\n",
    "\n",
    "train_data = train_data[!is.na(train_data$MV),]\n",
    "validation_data = validation_data[!is.na(validation_data$MV),]"
   ]
  },
  {
   "cell_type": "code",
   "execution_count": 25,
   "metadata": {
    "scrolled": true
   },
   "outputs": [
    {
     "data": {
      "text/html": [
       "<style>\n",
       ".dl-inline {width: auto; margin:0; padding: 0}\n",
       ".dl-inline>dt, .dl-inline>dd {float: none; width: auto; display: inline-block}\n",
       ".dl-inline>dt::after {content: \":\\0020\"; padding-right: .5ex}\n",
       ".dl-inline>dt:not(:first-of-type) {padding-left: .5ex}\n",
       "</style><dl class=dl-inline><dt>CRIM</dt><dd>0</dd><dt>ZN</dt><dd>0</dd><dt>INDUS</dt><dd>0</dd><dt>CHAS</dt><dd>0</dd><dt>NOX</dt><dd>0</dd><dt>RM</dt><dd>0</dd><dt>AGE</dt><dd>0</dd><dt>DIS</dt><dd>0</dd><dt>RAD</dt><dd>0</dd><dt>TAX</dt><dd>0</dd><dt>PT</dt><dd>0</dd><dt>B</dt><dd>0</dd><dt>LSTAT</dt><dd>0</dd><dt>MV</dt><dd>0</dd></dl>\n"
      ],
      "text/latex": [
       "\\begin{description*}\n",
       "\\item[CRIM] 0\n",
       "\\item[ZN] 0\n",
       "\\item[INDUS] 0\n",
       "\\item[CHAS] 0\n",
       "\\item[NOX] 0\n",
       "\\item[RM] 0\n",
       "\\item[AGE] 0\n",
       "\\item[DIS] 0\n",
       "\\item[RAD] 0\n",
       "\\item[TAX] 0\n",
       "\\item[PT] 0\n",
       "\\item[B] 0\n",
       "\\item[LSTAT] 0\n",
       "\\item[MV] 0\n",
       "\\end{description*}\n"
      ],
      "text/markdown": [
       "CRIM\n",
       ":   0ZN\n",
       ":   0INDUS\n",
       ":   0CHAS\n",
       ":   0NOX\n",
       ":   0RM\n",
       ":   0AGE\n",
       ":   0DIS\n",
       ":   0RAD\n",
       ":   0TAX\n",
       ":   0PT\n",
       ":   0B\n",
       ":   0LSTAT\n",
       ":   0MV\n",
       ":   0\n",
       "\n"
      ],
      "text/plain": [
       " CRIM    ZN INDUS  CHAS   NOX    RM   AGE   DIS   RAD   TAX    PT     B LSTAT \n",
       "    0     0     0     0     0     0     0     0     0     0     0     0     0 \n",
       "   MV \n",
       "    0 "
      ]
     },
     "metadata": {},
     "output_type": "display_data"
    },
    {
     "data": {
      "text/html": [
       "<style>\n",
       ".dl-inline {width: auto; margin:0; padding: 0}\n",
       ".dl-inline>dt, .dl-inline>dd {float: none; width: auto; display: inline-block}\n",
       ".dl-inline>dt::after {content: \":\\0020\"; padding-right: .5ex}\n",
       ".dl-inline>dt:not(:first-of-type) {padding-left: .5ex}\n",
       "</style><dl class=dl-inline><dt>CRIM</dt><dd>0</dd><dt>ZN</dt><dd>0</dd><dt>INDUS</dt><dd>0</dd><dt>CHAS</dt><dd>0</dd><dt>NOX</dt><dd>0</dd><dt>RM</dt><dd>0</dd><dt>AGE</dt><dd>0</dd><dt>DIS</dt><dd>0</dd><dt>RAD</dt><dd>0</dd><dt>TAX</dt><dd>0</dd><dt>PT</dt><dd>0</dd><dt>B</dt><dd>0</dd><dt>LSTAT</dt><dd>0</dd><dt>MV</dt><dd>0</dd></dl>\n"
      ],
      "text/latex": [
       "\\begin{description*}\n",
       "\\item[CRIM] 0\n",
       "\\item[ZN] 0\n",
       "\\item[INDUS] 0\n",
       "\\item[CHAS] 0\n",
       "\\item[NOX] 0\n",
       "\\item[RM] 0\n",
       "\\item[AGE] 0\n",
       "\\item[DIS] 0\n",
       "\\item[RAD] 0\n",
       "\\item[TAX] 0\n",
       "\\item[PT] 0\n",
       "\\item[B] 0\n",
       "\\item[LSTAT] 0\n",
       "\\item[MV] 0\n",
       "\\end{description*}\n"
      ],
      "text/markdown": [
       "CRIM\n",
       ":   0ZN\n",
       ":   0INDUS\n",
       ":   0CHAS\n",
       ":   0NOX\n",
       ":   0RM\n",
       ":   0AGE\n",
       ":   0DIS\n",
       ":   0RAD\n",
       ":   0TAX\n",
       ":   0PT\n",
       ":   0B\n",
       ":   0LSTAT\n",
       ":   0MV\n",
       ":   0\n",
       "\n"
      ],
      "text/plain": [
       " CRIM    ZN INDUS  CHAS   NOX    RM   AGE   DIS   RAD   TAX    PT     B LSTAT \n",
       "    0     0     0     0     0     0     0     0     0     0     0     0     0 \n",
       "   MV \n",
       "    0 "
      ]
     },
     "metadata": {},
     "output_type": "display_data"
    }
   ],
   "source": [
    "## Check column wise missing values\n",
    "colSums(is.na(train_data))\n",
    "\n",
    "colSums(is.na(validation_data))"
   ]
  },
  {
   "cell_type": "markdown",
   "metadata": {},
   "source": [
    "### Model Building"
   ]
  },
  {
   "cell_type": "code",
   "execution_count": 26,
   "metadata": {},
   "outputs": [
    {
     "data": {
      "text/plain": [
       "\n",
       "Call:\n",
       "lm(formula = MV ~ ., data = train_data)\n",
       "\n",
       "Residuals:\n",
       "     Min       1Q   Median       3Q      Max \n",
       "-11.1543  -2.6716  -0.5632   1.6623  24.0590 \n",
       "\n",
       "Coefficients:\n",
       "              Estimate Std. Error t value Pr(>|t|)    \n",
       "(Intercept)  22.094721   6.355299   3.477 0.000576 ***\n",
       "CRIM         -0.070622   0.043054  -1.640 0.101900    \n",
       "ZN            0.039321   0.016733   2.350 0.019370 *  \n",
       "INDUS         0.022366   0.073032   0.306 0.759609    \n",
       "CHAS1         3.505639   0.959084   3.655 0.000299 ***\n",
       "NOX         -13.938937   4.556327  -3.059 0.002401 ** \n",
       "RM            4.981062   0.508783   9.790  < 2e-16 ***\n",
       "AGE          -0.016049   0.015584  -1.030 0.303848    \n",
       "DIS          -1.316043   0.236641  -5.561 5.55e-08 ***\n",
       "RAD2          1.364941   1.686401   0.809 0.418881    \n",
       "RAD3          4.014483   1.543831   2.600 0.009733 ** \n",
       "RAD4          2.646670   1.323452   2.000 0.046341 *  \n",
       "RAD5          3.372678   1.349023   2.500 0.012902 *  \n",
       "RAD6          1.230539   1.646187   0.748 0.455290    \n",
       "RAD7          4.658039   1.731503   2.690 0.007506 ** \n",
       "RAD8          4.862758   1.734611   2.803 0.005357 ** \n",
       "RAD24         6.841311   1.962021   3.487 0.000555 ***\n",
       "TAX          -0.007705   0.004173  -1.846 0.065776 .  \n",
       "PT           -0.884515   0.168450  -5.251 2.72e-07 ***\n",
       "B             0.011118   0.003146   3.534 0.000467 ***\n",
       "LSTAT        -0.475111   0.063116  -7.528 5.01e-13 ***\n",
       "---\n",
       "Signif. codes:  0 ‘***’ 0.001 ‘**’ 0.01 ‘*’ 0.05 ‘.’ 0.1 ‘ ’ 1\n",
       "\n",
       "Residual standard error: 4.671 on 329 degrees of freedom\n",
       "Multiple R-squared:  0.777,\tAdjusted R-squared:  0.7634 \n",
       "F-statistic: 57.32 on 20 and 329 DF,  p-value: < 2.2e-16\n"
      ]
     },
     "metadata": {},
     "output_type": "display_data"
    }
   ],
   "source": [
    "# Build a linear model on this data\n",
    "lin_reg = lm(MV ~ .,data=train_data)\n",
    "\n",
    "summary(lin_reg)"
   ]
  },
  {
   "cell_type": "code",
   "execution_count": 27,
   "metadata": {},
   "outputs": [
    {
     "name": "stderr",
     "output_type": "stream",
     "text": [
      "Loading required package: lattice\n",
      "\n",
      "Loading required package: grid\n",
      "\n",
      "Registered S3 method overwritten by 'quantmod':\n",
      "  method            from\n",
      "  as.zoo.data.frame zoo \n",
      "\n"
     ]
    },
    {
     "data": {
      "text/html": [
       "<style>\n",
       ".dl-inline {width: auto; margin:0; padding: 0}\n",
       ".dl-inline>dt, .dl-inline>dd {float: none; width: auto; display: inline-block}\n",
       ".dl-inline>dt::after {content: \":\\0020\"; padding-right: .5ex}\n",
       ".dl-inline>dt:not(:first-of-type) {padding-left: .5ex}\n",
       "</style><dl class=dl-inline><dt>mae</dt><dd>3.19452566068803</dd><dt>mse</dt><dd>20.5100096168241</dd><dt>rmse</dt><dd>4.52879781143121</dd><dt>mape</dt><dd>0.166048312981492</dd></dl>\n"
      ],
      "text/latex": [
       "\\begin{description*}\n",
       "\\item[mae] 3.19452566068803\n",
       "\\item[mse] 20.5100096168241\n",
       "\\item[rmse] 4.52879781143121\n",
       "\\item[mape] 0.166048312981492\n",
       "\\end{description*}\n"
      ],
      "text/markdown": [
       "mae\n",
       ":   3.19452566068803mse\n",
       ":   20.5100096168241rmse\n",
       ":   4.52879781143121mape\n",
       ":   0.166048312981492\n",
       "\n"
      ],
      "text/plain": [
       "       mae        mse       rmse       mape \n",
       " 3.1945257 20.5100096  4.5287978  0.1660483 "
      ]
     },
     "metadata": {},
     "output_type": "display_data"
    },
    {
     "data": {
      "text/html": [
       "<style>\n",
       ".dl-inline {width: auto; margin:0; padding: 0}\n",
       ".dl-inline>dt, .dl-inline>dd {float: none; width: auto; display: inline-block}\n",
       ".dl-inline>dt::after {content: \":\\0020\"; padding-right: .5ex}\n",
       ".dl-inline>dt:not(:first-of-type) {padding-left: .5ex}\n",
       "</style><dl class=dl-inline><dt>mae</dt><dd>3.57671955793159</dd><dt>mse</dt><dd>27.3761499822177</dd><dt>rmse</dt><dd>5.23222227951161</dd><dt>mape</dt><dd>0.186916360481813</dd></dl>\n"
      ],
      "text/latex": [
       "\\begin{description*}\n",
       "\\item[mae] 3.57671955793159\n",
       "\\item[mse] 27.3761499822177\n",
       "\\item[rmse] 5.23222227951161\n",
       "\\item[mape] 0.186916360481813\n",
       "\\end{description*}\n"
      ],
      "text/markdown": [
       "mae\n",
       ":   3.57671955793159mse\n",
       ":   27.3761499822177rmse\n",
       ":   5.23222227951161mape\n",
       ":   0.186916360481813\n",
       "\n"
      ],
      "text/plain": [
       "       mae        mse       rmse       mape \n",
       " 3.5767196 27.3761500  5.2322223  0.1869164 "
      ]
     },
     "metadata": {},
     "output_type": "display_data"
    }
   ],
   "source": [
    "## Predict and evaluate\n",
    "pred_train = predict(lin_reg,newdata=train_data)\n",
    "pred_validation = predict(lin_reg,newdata=validation_data)\n",
    "\n",
    "library(DMwR)\n",
    "regr.eval(train_data$MV,pred_train)\n",
    "regr.eval(validation_data$MV,pred_validation)"
   ]
  },
  {
   "cell_type": "markdown",
   "metadata": {},
   "source": [
    "### PCA"
   ]
  },
  {
   "cell_type": "markdown",
   "metadata": {},
   "source": [
    "We know that principal components are obtained on numeric data. \n",
    "\n",
    "From the data description, we understand that CHAS and RAD are categorical, hence we shall keep these two\n",
    "\n",
    "variables out which constructing principal components\n"
   ]
  },
  {
   "cell_type": "markdown",
   "metadata": {},
   "source": [
    "##### Standardization"
   ]
  },
  {
   "cell_type": "code",
   "execution_count": 28,
   "metadata": {},
   "outputs": [
    {
     "name": "stderr",
     "output_type": "stream",
     "text": [
      "\n",
      "Attaching package: ‘dplyr’\n",
      "\n",
      "\n",
      "The following objects are masked from ‘package:stats’:\n",
      "\n",
      "    filter, lag\n",
      "\n",
      "\n",
      "The following objects are masked from ‘package:base’:\n",
      "\n",
      "    intersect, setdiff, setequal, union\n",
      "\n",
      "\n"
     ]
    },
    {
     "data": {
      "text/html": [
       "<style>\n",
       ".list-inline {list-style: none; margin:0; padding: 0}\n",
       ".list-inline>li {display: inline-block}\n",
       ".list-inline>li:not(:last-child)::after {content: \"\\00b7\"; padding: 0 .5ex}\n",
       "</style>\n",
       "<ol class=list-inline><li>'CRIM'</li><li>'ZN'</li><li>'INDUS'</li><li>'NOX'</li><li>'RM'</li><li>'AGE'</li><li>'DIS'</li><li>'TAX'</li><li>'PT'</li><li>'B'</li><li>'LSTAT'</li></ol>\n"
      ],
      "text/latex": [
       "\\begin{enumerate*}\n",
       "\\item 'CRIM'\n",
       "\\item 'ZN'\n",
       "\\item 'INDUS'\n",
       "\\item 'NOX'\n",
       "\\item 'RM'\n",
       "\\item 'AGE'\n",
       "\\item 'DIS'\n",
       "\\item 'TAX'\n",
       "\\item 'PT'\n",
       "\\item 'B'\n",
       "\\item 'LSTAT'\n",
       "\\end{enumerate*}\n"
      ],
      "text/markdown": [
       "1. 'CRIM'\n",
       "2. 'ZN'\n",
       "3. 'INDUS'\n",
       "4. 'NOX'\n",
       "5. 'RM'\n",
       "6. 'AGE'\n",
       "7. 'DIS'\n",
       "8. 'TAX'\n",
       "9. 'PT'\n",
       "10. 'B'\n",
       "11. 'LSTAT'\n",
       "\n",
       "\n"
      ],
      "text/plain": [
       " [1] \"CRIM\"  \"ZN\"    \"INDUS\" \"NOX\"   \"RM\"    \"AGE\"   \"DIS\"   \"TAX\"   \"PT\"   \n",
       "[10] \"B\"     \"LSTAT\""
      ]
     },
     "metadata": {},
     "output_type": "display_data"
    }
   ],
   "source": [
    "## Select numeric independent variables to standardize\n",
    "\n",
    "library(dplyr)\n",
    "\n",
    "num_cols = colnames(select_if(train_data,is.numeric))\n",
    "\n",
    "independent_num_cols = setdiff(num_cols,\"MV\")\n",
    "\n",
    "independent_num_cols"
   ]
  },
  {
   "cell_type": "code",
   "execution_count": 29,
   "metadata": {},
   "outputs": [
    {
     "name": "stderr",
     "output_type": "stream",
     "text": [
      "Loading required package: ggplot2\n",
      "\n"
     ]
    },
    {
     "data": {
      "text/plain": [
       "Created from 350 samples and 11 variables\n",
       "\n",
       "Pre-processing:\n",
       "  - centered (11)\n",
       "  - ignored (0)\n",
       "  - scaled (11)\n"
      ]
     },
     "metadata": {},
     "output_type": "display_data"
    }
   ],
   "source": [
    "## Standardize numeric independent variables  \n",
    "\n",
    "library(caret)\n",
    "\n",
    "std_model <- preProcess(train_data[, independent_num_cols], method = c(\"scale\",\"center\"))\n",
    "std_model\n"
   ]
  },
  {
   "cell_type": "code",
   "execution_count": 30,
   "metadata": {
    "scrolled": true
   },
   "outputs": [
    {
     "data": {
      "text/html": [
       "<table class=\"dataframe\">\n",
       "<caption>A data.frame: 6 × 14</caption>\n",
       "<thead>\n",
       "\t<tr><th></th><th scope=col>CRIM</th><th scope=col>ZN</th><th scope=col>INDUS</th><th scope=col>CHAS</th><th scope=col>NOX</th><th scope=col>RM</th><th scope=col>AGE</th><th scope=col>DIS</th><th scope=col>RAD</th><th scope=col>TAX</th><th scope=col>PT</th><th scope=col>B</th><th scope=col>LSTAT</th><th scope=col>MV</th></tr>\n",
       "\t<tr><th></th><th scope=col>&lt;dbl&gt;</th><th scope=col>&lt;dbl&gt;</th><th scope=col>&lt;dbl&gt;</th><th scope=col>&lt;fct&gt;</th><th scope=col>&lt;dbl&gt;</th><th scope=col>&lt;dbl&gt;</th><th scope=col>&lt;dbl&gt;</th><th scope=col>&lt;dbl&gt;</th><th scope=col>&lt;fct&gt;</th><th scope=col>&lt;dbl&gt;</th><th scope=col>&lt;dbl&gt;</th><th scope=col>&lt;dbl&gt;</th><th scope=col>&lt;dbl&gt;</th><th scope=col>&lt;dbl&gt;</th></tr>\n",
       "</thead>\n",
       "<tbody>\n",
       "\t<tr><th scope=row>505</th><td>-0.4082096</td><td>-0.4865396</td><td> 0.1178454</td><td>0</td><td> 0.1880957</td><td> 0.6533680</td><td>0.7584820</td><td>-0.6716689</td><td>1 </td><td>-0.79185380</td><td> 1.1793517</td><td> 0.4119581</td><td>-0.8447774</td><td>22.0</td></tr>\n",
       "\t<tr><th scope=row>324</th><td>-0.3867052</td><td>-0.4865396</td><td>-0.2072454</td><td>0</td><td>-0.5009624</td><td>-0.8515440</td><td>0.2374989</td><td> 0.4337206</td><td>5 </td><td>-0.70790565</td><td> 0.5296808</td><td> 0.3873252</td><td>-0.1049784</td><td>18.5</td></tr>\n",
       "\t<tr><th scope=row>167</th><td>-0.1737618</td><td>-0.4865396</td><td> 1.2280881</td><td>0</td><td> 0.4637190</td><td> 2.2261808</td><td>0.9981341</td><td>-0.8342401</td><td>5 </td><td>-0.01233524</td><td>-1.7441680</td><td> 0.1555427</td><td>-1.2357739</td><td>50.0</td></tr>\n",
       "\t<tr><th scope=row>129</th><td>-0.3815847</td><td>-0.4865396</td><td> 1.5633378</td><td>0</td><td> 0.6273702</td><td> 0.1503450</td><td>1.0884380</td><td>-0.9448644</td><td>4 </td><td> 0.19153885</td><td> 1.2721622</td><td> 0.4485886</td><td> 0.4083804</td><td>18.0</td></tr>\n",
       "\t<tr><th scope=row>418</th><td> 2.7781650</td><td>-0.4865396</td><td> 1.0132961</td><td>0</td><td> 1.1010977</td><td>-1.4113827</td><td>0.7515354</td><td>-1.0230692</td><td>24</td><td> 1.56469078</td><td> 0.8081115</td><td>-2.4132808</td><td> 1.9906502</td><td>10.4</td></tr>\n",
       "\t<tr><th scope=row>471</th><td> 0.1147154</td><td>-0.4865396</td><td> 1.0132961</td><td>0</td><td> 0.2483881</td><td>-0.2154905</td><td>0.5744012</td><td>-0.3661961</td><td>24</td><td> 1.56469078</td><td> 0.8081115</td><td> 0.4485886</td><td> 0.5349621</td><td>19.9</td></tr>\n",
       "</tbody>\n",
       "</table>\n"
      ],
      "text/latex": [
       "A data.frame: 6 × 14\n",
       "\\begin{tabular}{r|llllllllllllll}\n",
       "  & CRIM & ZN & INDUS & CHAS & NOX & RM & AGE & DIS & RAD & TAX & PT & B & LSTAT & MV\\\\\n",
       "  & <dbl> & <dbl> & <dbl> & <fct> & <dbl> & <dbl> & <dbl> & <dbl> & <fct> & <dbl> & <dbl> & <dbl> & <dbl> & <dbl>\\\\\n",
       "\\hline\n",
       "\t505 & -0.4082096 & -0.4865396 &  0.1178454 & 0 &  0.1880957 &  0.6533680 & 0.7584820 & -0.6716689 & 1  & -0.79185380 &  1.1793517 &  0.4119581 & -0.8447774 & 22.0\\\\\n",
       "\t324 & -0.3867052 & -0.4865396 & -0.2072454 & 0 & -0.5009624 & -0.8515440 & 0.2374989 &  0.4337206 & 5  & -0.70790565 &  0.5296808 &  0.3873252 & -0.1049784 & 18.5\\\\\n",
       "\t167 & -0.1737618 & -0.4865396 &  1.2280881 & 0 &  0.4637190 &  2.2261808 & 0.9981341 & -0.8342401 & 5  & -0.01233524 & -1.7441680 &  0.1555427 & -1.2357739 & 50.0\\\\\n",
       "\t129 & -0.3815847 & -0.4865396 &  1.5633378 & 0 &  0.6273702 &  0.1503450 & 1.0884380 & -0.9448644 & 4  &  0.19153885 &  1.2721622 &  0.4485886 &  0.4083804 & 18.0\\\\\n",
       "\t418 &  2.7781650 & -0.4865396 &  1.0132961 & 0 &  1.1010977 & -1.4113827 & 0.7515354 & -1.0230692 & 24 &  1.56469078 &  0.8081115 & -2.4132808 &  1.9906502 & 10.4\\\\\n",
       "\t471 &  0.1147154 & -0.4865396 &  1.0132961 & 0 &  0.2483881 & -0.2154905 & 0.5744012 & -0.3661961 & 24 &  1.56469078 &  0.8081115 &  0.4485886 &  0.5349621 & 19.9\\\\\n",
       "\\end{tabular}\n"
      ],
      "text/markdown": [
       "\n",
       "A data.frame: 6 × 14\n",
       "\n",
       "| <!--/--> | CRIM &lt;dbl&gt; | ZN &lt;dbl&gt; | INDUS &lt;dbl&gt; | CHAS &lt;fct&gt; | NOX &lt;dbl&gt; | RM &lt;dbl&gt; | AGE &lt;dbl&gt; | DIS &lt;dbl&gt; | RAD &lt;fct&gt; | TAX &lt;dbl&gt; | PT &lt;dbl&gt; | B &lt;dbl&gt; | LSTAT &lt;dbl&gt; | MV &lt;dbl&gt; |\n",
       "|---|---|---|---|---|---|---|---|---|---|---|---|---|---|---|\n",
       "| 505 | -0.4082096 | -0.4865396 |  0.1178454 | 0 |  0.1880957 |  0.6533680 | 0.7584820 | -0.6716689 | 1  | -0.79185380 |  1.1793517 |  0.4119581 | -0.8447774 | 22.0 |\n",
       "| 324 | -0.3867052 | -0.4865396 | -0.2072454 | 0 | -0.5009624 | -0.8515440 | 0.2374989 |  0.4337206 | 5  | -0.70790565 |  0.5296808 |  0.3873252 | -0.1049784 | 18.5 |\n",
       "| 167 | -0.1737618 | -0.4865396 |  1.2280881 | 0 |  0.4637190 |  2.2261808 | 0.9981341 | -0.8342401 | 5  | -0.01233524 | -1.7441680 |  0.1555427 | -1.2357739 | 50.0 |\n",
       "| 129 | -0.3815847 | -0.4865396 |  1.5633378 | 0 |  0.6273702 |  0.1503450 | 1.0884380 | -0.9448644 | 4  |  0.19153885 |  1.2721622 |  0.4485886 |  0.4083804 | 18.0 |\n",
       "| 418 |  2.7781650 | -0.4865396 |  1.0132961 | 0 |  1.1010977 | -1.4113827 | 0.7515354 | -1.0230692 | 24 |  1.56469078 |  0.8081115 | -2.4132808 |  1.9906502 | 10.4 |\n",
       "| 471 |  0.1147154 | -0.4865396 |  1.0132961 | 0 |  0.2483881 | -0.2154905 | 0.5744012 | -0.3661961 | 24 |  1.56469078 |  0.8081115 |  0.4485886 |  0.5349621 | 19.9 |\n",
       "\n"
      ],
      "text/plain": [
       "    CRIM       ZN         INDUS      CHAS NOX        RM         AGE      \n",
       "505 -0.4082096 -0.4865396  0.1178454 0     0.1880957  0.6533680 0.7584820\n",
       "324 -0.3867052 -0.4865396 -0.2072454 0    -0.5009624 -0.8515440 0.2374989\n",
       "167 -0.1737618 -0.4865396  1.2280881 0     0.4637190  2.2261808 0.9981341\n",
       "129 -0.3815847 -0.4865396  1.5633378 0     0.6273702  0.1503450 1.0884380\n",
       "418  2.7781650 -0.4865396  1.0132961 0     1.1010977 -1.4113827 0.7515354\n",
       "471  0.1147154 -0.4865396  1.0132961 0     0.2483881 -0.2154905 0.5744012\n",
       "    DIS        RAD TAX         PT         B          LSTAT      MV  \n",
       "505 -0.6716689 1   -0.79185380  1.1793517  0.4119581 -0.8447774 22.0\n",
       "324  0.4337206 5   -0.70790565  0.5296808  0.3873252 -0.1049784 18.5\n",
       "167 -0.8342401 5   -0.01233524 -1.7441680  0.1555427 -1.2357739 50.0\n",
       "129 -0.9448644 4    0.19153885  1.2721622  0.4485886  0.4083804 18.0\n",
       "418 -1.0230692 24   1.56469078  0.8081115 -2.4132808  1.9906502 10.4\n",
       "471 -0.3661961 24   1.56469078  0.8081115  0.4485886  0.5349621 19.9"
      ]
     },
     "metadata": {},
     "output_type": "display_data"
    }
   ],
   "source": [
    "## Standardize train data\n",
    "\n",
    "train_data[, independent_num_cols] <- predict(object = std_model, newdata = train_data[, independent_num_cols])\n",
    "\n",
    "head(train_data)"
   ]
  },
  {
   "cell_type": "code",
   "execution_count": 31,
   "metadata": {},
   "outputs": [
    {
     "data": {
      "text/html": [
       "<table class=\"dataframe\">\n",
       "<caption>A data.frame: 6 × 14</caption>\n",
       "<thead>\n",
       "\t<tr><th></th><th scope=col>CRIM</th><th scope=col>ZN</th><th scope=col>INDUS</th><th scope=col>CHAS</th><th scope=col>NOX</th><th scope=col>RM</th><th scope=col>AGE</th><th scope=col>DIS</th><th scope=col>RAD</th><th scope=col>TAX</th><th scope=col>PT</th><th scope=col>B</th><th scope=col>LSTAT</th><th scope=col>MV</th></tr>\n",
       "\t<tr><th></th><th scope=col>&lt;dbl&gt;</th><th scope=col>&lt;dbl&gt;</th><th scope=col>&lt;dbl&gt;</th><th scope=col>&lt;fct&gt;</th><th scope=col>&lt;dbl&gt;</th><th scope=col>&lt;dbl&gt;</th><th scope=col>&lt;dbl&gt;</th><th scope=col>&lt;dbl&gt;</th><th scope=col>&lt;fct&gt;</th><th scope=col>&lt;dbl&gt;</th><th scope=col>&lt;dbl&gt;</th><th scope=col>&lt;dbl&gt;</th><th scope=col>&lt;dbl&gt;</th><th scope=col>&lt;dbl&gt;</th></tr>\n",
       "</thead>\n",
       "<tbody>\n",
       "\t<tr><th scope=row>5</th><td>-0.4132104</td><td>-0.48653959</td><td>-1.2971699</td><td>0</td><td>-0.8024253</td><td> 1.1425332</td><td>-0.46061850</td><td>1.069360</td><td>3</td><td>-1.0976649</td><td> 0.1120354</td><td>0.4485886</td><td>-1.006520612</td><td>36.2</td></tr>\n",
       "\t<tr><th scope=row>6</th><td>-0.4180459</td><td>-0.48653959</td><td>-1.2971699</td><td>0</td><td>-0.8024253</td><td> 0.1489587</td><td>-0.30432357</td><td>1.069360</td><td>3</td><td>-1.0976649</td><td> 0.1120354</td><td>0.4190717</td><td>-1.023398142</td><td>28.7</td></tr>\n",
       "\t<tr><th scope=row>7</th><td>-0.4108370</td><td> 0.06023942</td><td>-0.4713815</td><td>0</td><td>-0.2339525</td><td>-0.4302796</td><td>-0.02993922</td><td>0.831570</td><td>5</td><td>-0.5639945</td><td>-1.5121427</td><td>0.4347859</td><td>-0.007932401</td><td>22.9</td></tr>\n",
       "\t<tr><th scope=row>8</th><td>-0.4038971</td><td> 0.06023942</td><td>-0.4713815</td><td>0</td><td>-0.2339525</td><td>-0.2085617</td><td> 0.99466089</td><td>1.016418</td><td>5</td><td>-0.5639945</td><td>-1.5121427</td><td>0.4485886</td><td> 0.937210094</td><td>27.1</td></tr>\n",
       "\t<tr><th scope=row>9</th><td>-0.3956706</td><td> 0.06023942</td><td>-0.4713815</td><td>0</td><td>-0.2339525</td><td>-0.9582460</td><td> 1.13011655</td><td>1.078792</td><td>5</td><td>-0.5639945</td><td>-1.5121427</td><td>0.3395460</td><td>-0.148578688</td><td>16.5</td></tr>\n",
       "\t<tr><th scope=row>10</th><td>-0.4007528</td><td> 0.06023942</td><td>-0.4713815</td><td>0</td><td>-0.2339525</td><td>-0.4413654</td><td> 0.64039249</td><td>1.320516</td><td>5</td><td>-0.5639945</td><td>-1.5121427</td><td>0.3403952</td><td> 0.648885452</td><td>18.9</td></tr>\n",
       "</tbody>\n",
       "</table>\n"
      ],
      "text/latex": [
       "A data.frame: 6 × 14\n",
       "\\begin{tabular}{r|llllllllllllll}\n",
       "  & CRIM & ZN & INDUS & CHAS & NOX & RM & AGE & DIS & RAD & TAX & PT & B & LSTAT & MV\\\\\n",
       "  & <dbl> & <dbl> & <dbl> & <fct> & <dbl> & <dbl> & <dbl> & <dbl> & <fct> & <dbl> & <dbl> & <dbl> & <dbl> & <dbl>\\\\\n",
       "\\hline\n",
       "\t5 & -0.4132104 & -0.48653959 & -1.2971699 & 0 & -0.8024253 &  1.1425332 & -0.46061850 & 1.069360 & 3 & -1.0976649 &  0.1120354 & 0.4485886 & -1.006520612 & 36.2\\\\\n",
       "\t6 & -0.4180459 & -0.48653959 & -1.2971699 & 0 & -0.8024253 &  0.1489587 & -0.30432357 & 1.069360 & 3 & -1.0976649 &  0.1120354 & 0.4190717 & -1.023398142 & 28.7\\\\\n",
       "\t7 & -0.4108370 &  0.06023942 & -0.4713815 & 0 & -0.2339525 & -0.4302796 & -0.02993922 & 0.831570 & 5 & -0.5639945 & -1.5121427 & 0.4347859 & -0.007932401 & 22.9\\\\\n",
       "\t8 & -0.4038971 &  0.06023942 & -0.4713815 & 0 & -0.2339525 & -0.2085617 &  0.99466089 & 1.016418 & 5 & -0.5639945 & -1.5121427 & 0.4485886 &  0.937210094 & 27.1\\\\\n",
       "\t9 & -0.3956706 &  0.06023942 & -0.4713815 & 0 & -0.2339525 & -0.9582460 &  1.13011655 & 1.078792 & 5 & -0.5639945 & -1.5121427 & 0.3395460 & -0.148578688 & 16.5\\\\\n",
       "\t10 & -0.4007528 &  0.06023942 & -0.4713815 & 0 & -0.2339525 & -0.4413654 &  0.64039249 & 1.320516 & 5 & -0.5639945 & -1.5121427 & 0.3403952 &  0.648885452 & 18.9\\\\\n",
       "\\end{tabular}\n"
      ],
      "text/markdown": [
       "\n",
       "A data.frame: 6 × 14\n",
       "\n",
       "| <!--/--> | CRIM &lt;dbl&gt; | ZN &lt;dbl&gt; | INDUS &lt;dbl&gt; | CHAS &lt;fct&gt; | NOX &lt;dbl&gt; | RM &lt;dbl&gt; | AGE &lt;dbl&gt; | DIS &lt;dbl&gt; | RAD &lt;fct&gt; | TAX &lt;dbl&gt; | PT &lt;dbl&gt; | B &lt;dbl&gt; | LSTAT &lt;dbl&gt; | MV &lt;dbl&gt; |\n",
       "|---|---|---|---|---|---|---|---|---|---|---|---|---|---|---|\n",
       "| 5 | -0.4132104 | -0.48653959 | -1.2971699 | 0 | -0.8024253 |  1.1425332 | -0.46061850 | 1.069360 | 3 | -1.0976649 |  0.1120354 | 0.4485886 | -1.006520612 | 36.2 |\n",
       "| 6 | -0.4180459 | -0.48653959 | -1.2971699 | 0 | -0.8024253 |  0.1489587 | -0.30432357 | 1.069360 | 3 | -1.0976649 |  0.1120354 | 0.4190717 | -1.023398142 | 28.7 |\n",
       "| 7 | -0.4108370 |  0.06023942 | -0.4713815 | 0 | -0.2339525 | -0.4302796 | -0.02993922 | 0.831570 | 5 | -0.5639945 | -1.5121427 | 0.4347859 | -0.007932401 | 22.9 |\n",
       "| 8 | -0.4038971 |  0.06023942 | -0.4713815 | 0 | -0.2339525 | -0.2085617 |  0.99466089 | 1.016418 | 5 | -0.5639945 | -1.5121427 | 0.4485886 |  0.937210094 | 27.1 |\n",
       "| 9 | -0.3956706 |  0.06023942 | -0.4713815 | 0 | -0.2339525 | -0.9582460 |  1.13011655 | 1.078792 | 5 | -0.5639945 | -1.5121427 | 0.3395460 | -0.148578688 | 16.5 |\n",
       "| 10 | -0.4007528 |  0.06023942 | -0.4713815 | 0 | -0.2339525 | -0.4413654 |  0.64039249 | 1.320516 | 5 | -0.5639945 | -1.5121427 | 0.3403952 |  0.648885452 | 18.9 |\n",
       "\n"
      ],
      "text/plain": [
       "   CRIM       ZN          INDUS      CHAS NOX        RM         AGE        \n",
       "5  -0.4132104 -0.48653959 -1.2971699 0    -0.8024253  1.1425332 -0.46061850\n",
       "6  -0.4180459 -0.48653959 -1.2971699 0    -0.8024253  0.1489587 -0.30432357\n",
       "7  -0.4108370  0.06023942 -0.4713815 0    -0.2339525 -0.4302796 -0.02993922\n",
       "8  -0.4038971  0.06023942 -0.4713815 0    -0.2339525 -0.2085617  0.99466089\n",
       "9  -0.3956706  0.06023942 -0.4713815 0    -0.2339525 -0.9582460  1.13011655\n",
       "10 -0.4007528  0.06023942 -0.4713815 0    -0.2339525 -0.4413654  0.64039249\n",
       "   DIS      RAD TAX        PT         B         LSTAT        MV  \n",
       "5  1.069360 3   -1.0976649  0.1120354 0.4485886 -1.006520612 36.2\n",
       "6  1.069360 3   -1.0976649  0.1120354 0.4190717 -1.023398142 28.7\n",
       "7  0.831570 5   -0.5639945 -1.5121427 0.4347859 -0.007932401 22.9\n",
       "8  1.016418 5   -0.5639945 -1.5121427 0.4485886  0.937210094 27.1\n",
       "9  1.078792 5   -0.5639945 -1.5121427 0.3395460 -0.148578688 16.5\n",
       "10 1.320516 5   -0.5639945 -1.5121427 0.3403952  0.648885452 18.9"
      ]
     },
     "metadata": {},
     "output_type": "display_data"
    }
   ],
   "source": [
    "## Standardize validation data\n",
    "\n",
    "validation_data[, independent_num_cols] <- predict(object = std_model, newdata = validation_data[, independent_num_cols])\n",
    "\n",
    "head(validation_data)"
   ]
  },
  {
   "cell_type": "code",
   "execution_count": 32,
   "metadata": {},
   "outputs": [],
   "source": [
    "## Create a PCA Object on standardized variables\n",
    "\n",
    "pca_object = princomp(train_data[,independent_num_cols])"
   ]
  },
  {
   "cell_type": "code",
   "execution_count": 33,
   "metadata": {},
   "outputs": [
    {
     "data": {
      "text/plain": [
       "\n",
       "Loadings:\n",
       "      Comp.1 Comp.2 Comp.3 Comp.4 Comp.5 Comp.6 Comp.7 Comp.8 Comp.9 Comp.10\n",
       "CRIM   0.259  0.399  0.317         0.273  0.660  0.313  0.154         0.143 \n",
       "ZN    -0.279  0.344  0.294 -0.282  0.409 -0.243 -0.473  0.328  0.254 -0.123 \n",
       "INDUS  0.362 -0.101                0.160 -0.432  0.172  0.563 -0.392  0.361 \n",
       "NOX    0.359 -0.220  0.175 -0.174  0.138 -0.200        -0.300  0.247 -0.247 \n",
       "RM    -0.226 -0.309  0.544  0.489  0.114  0.103 -0.231        -0.456 -0.128 \n",
       "AGE    0.337 -0.318                       0.224 -0.582 -0.113  0.219  0.561 \n",
       "DIS   -0.340  0.399 -0.111               -0.113        -0.412 -0.284  0.536 \n",
       "TAX    0.334  0.220  0.193  0.183  0.374 -0.354  0.127 -0.496               \n",
       "PT     0.214  0.311 -0.430  0.687               -0.288  0.146  0.153 -0.141 \n",
       "B     -0.211 -0.351 -0.466         0.743  0.200                             \n",
       "LSTAT  0.335  0.201 -0.182 -0.369         0.200 -0.381        -0.590 -0.364 \n",
       "      Comp.11\n",
       "CRIM   0.136 \n",
       "ZN           \n",
       "INDUS  0.119 \n",
       "NOX    0.700 \n",
       "RM     0.128 \n",
       "AGE   -0.132 \n",
       "DIS    0.396 \n",
       "TAX   -0.490 \n",
       "PT     0.216 \n",
       "B            \n",
       "LSTAT        \n",
       "\n",
       "               Comp.1 Comp.2 Comp.3 Comp.4 Comp.5 Comp.6 Comp.7 Comp.8 Comp.9\n",
       "SS loadings     1.000  1.000  1.000  1.000  1.000  1.000  1.000  1.000  1.000\n",
       "Proportion Var  0.091  0.091  0.091  0.091  0.091  0.091  0.091  0.091  0.091\n",
       "Cumulative Var  0.091  0.182  0.273  0.364  0.455  0.545  0.636  0.727  0.818\n",
       "               Comp.10 Comp.11\n",
       "SS loadings      1.000   1.000\n",
       "Proportion Var   0.091   0.091\n",
       "Cumulative Var   0.909   1.000"
      ]
     },
     "metadata": {},
     "output_type": "display_data"
    }
   ],
   "source": [
    "## PCA Loadings\n",
    "\n",
    "pca_object$loadings"
   ]
  },
  {
   "cell_type": "code",
   "execution_count": 34,
   "metadata": {},
   "outputs": [
    {
     "data": {
      "text/plain": [
       "Importance of components:\n",
       "                          Comp.1    Comp.2    Comp.3     Comp.4     Comp.5\n",
       "Standard deviation     2.3610083 1.1041845 1.0570046 0.87096072 0.77003773\n",
       "Proportion of Variance 0.5082121 0.1111561 0.1018600 0.06915874 0.05405974\n",
       "Cumulative Proportion  0.5082121 0.6193681 0.7212281 0.79038688 0.84444661\n",
       "                           Comp.6     Comp.7     Comp.8    Comp.9    Comp.10\n",
       "Standard deviation     0.71090620 0.63743369 0.47371118 0.4575137 0.43370870\n",
       "Proportion of Variance 0.04607597 0.03704418 0.02045866 0.0190835 0.01714929\n",
       "Cumulative Proportion  0.89052259 0.92756677 0.94802543 0.9671089 0.98425823\n",
       "                          Comp.11\n",
       "Standard deviation     0.41552952\n",
       "Proportion of Variance 0.01574177\n",
       "Cumulative Proportion  1.00000000"
      ]
     },
     "metadata": {},
     "output_type": "display_data"
    }
   ],
   "source": [
    "## PCA Components Importance\n",
    "\n",
    "summary(pca_object)"
   ]
  },
  {
   "cell_type": "code",
   "execution_count": 35,
   "metadata": {},
   "outputs": [
    {
     "data": {
      "text/html": [
       "<table class=\"dataframe\">\n",
       "<caption>A matrix: 6 × 11 of type dbl</caption>\n",
       "<thead>\n",
       "\t<tr><th></th><th scope=col>Comp.1</th><th scope=col>Comp.2</th><th scope=col>Comp.3</th><th scope=col>Comp.4</th><th scope=col>Comp.5</th><th scope=col>Comp.6</th><th scope=col>Comp.7</th><th scope=col>Comp.8</th><th scope=col>Comp.9</th><th scope=col>Comp.10</th><th scope=col>Comp.11</th></tr>\n",
       "</thead>\n",
       "<tbody>\n",
       "\t<tr><th scope=row>505</th><td> 0.094685019</td><td>-1.215448370</td><td>-0.4781696</td><td> 1.36158358</td><td>-0.05388943</td><td> 0.2227936</td><td>-0.50392916</td><td> 0.58014195</td><td> 0.59526149</td><td> 0.1186374</td><td> 0.47635181</td></tr>\n",
       "\t<tr><th scope=row>324</th><td>-0.334179753</td><td> 0.021864933</td><td>-1.3800408</td><td> 0.02665146</td><td>-0.42628814</td><td> 0.2562877</td><td>-0.08083747</td><td> 0.04764883</td><td> 0.27381912</td><td> 0.4886224</td><td> 0.07238535</td></tr>\n",
       "\t<tr><th scope=row>167</th><td>-0.005359866</td><td>-2.648474694</td><td> 2.1228599</td><td> 0.34593163</td><td> 0.34216782</td><td>-0.2200462</td><td> 0.34366614</td><td> 0.39249254</td><td>-0.60943481</td><td> 0.8819785</td><td>-0.06527647</td></tr>\n",
       "\t<tr><th scope=row>129</th><td> 1.861689150</td><td>-1.022399533</td><td>-0.7223453</td><td> 0.77208753</td><td> 0.51558764</td><td>-0.5115502</td><td>-0.66666716</td><td> 0.76865724</td><td>-0.25482711</td><td> 0.1531976</td><td> 0.25063331</td></tr>\n",
       "\t<tr><th scope=row>418</th><td> 4.410317658</td><td> 2.226841756</td><td> 1.0212538</td><td>-0.43575433</td><td>-0.56664262</td><td> 0.7653514</td><td> 0.26330469</td><td> 0.17829180</td><td> 0.07235677</td><td>-0.1660827</td><td>-0.04634154</td></tr>\n",
       "\t<tr><th scope=row>471</th><td> 1.768973109</td><td> 0.004706455</td><td>-0.4717692</td><td> 0.56702944</td><td> 0.94692942</td><td>-0.5321163</td><td>-0.01114607</td><td>-0.28273884</td><td>-0.42509655</td><td> 0.1838838</td><td>-0.53828492</td></tr>\n",
       "</tbody>\n",
       "</table>\n"
      ],
      "text/latex": [
       "A matrix: 6 × 11 of type dbl\n",
       "\\begin{tabular}{r|lllllllllll}\n",
       "  & Comp.1 & Comp.2 & Comp.3 & Comp.4 & Comp.5 & Comp.6 & Comp.7 & Comp.8 & Comp.9 & Comp.10 & Comp.11\\\\\n",
       "\\hline\n",
       "\t505 &  0.094685019 & -1.215448370 & -0.4781696 &  1.36158358 & -0.05388943 &  0.2227936 & -0.50392916 &  0.58014195 &  0.59526149 &  0.1186374 &  0.47635181\\\\\n",
       "\t324 & -0.334179753 &  0.021864933 & -1.3800408 &  0.02665146 & -0.42628814 &  0.2562877 & -0.08083747 &  0.04764883 &  0.27381912 &  0.4886224 &  0.07238535\\\\\n",
       "\t167 & -0.005359866 & -2.648474694 &  2.1228599 &  0.34593163 &  0.34216782 & -0.2200462 &  0.34366614 &  0.39249254 & -0.60943481 &  0.8819785 & -0.06527647\\\\\n",
       "\t129 &  1.861689150 & -1.022399533 & -0.7223453 &  0.77208753 &  0.51558764 & -0.5115502 & -0.66666716 &  0.76865724 & -0.25482711 &  0.1531976 &  0.25063331\\\\\n",
       "\t418 &  4.410317658 &  2.226841756 &  1.0212538 & -0.43575433 & -0.56664262 &  0.7653514 &  0.26330469 &  0.17829180 &  0.07235677 & -0.1660827 & -0.04634154\\\\\n",
       "\t471 &  1.768973109 &  0.004706455 & -0.4717692 &  0.56702944 &  0.94692942 & -0.5321163 & -0.01114607 & -0.28273884 & -0.42509655 &  0.1838838 & -0.53828492\\\\\n",
       "\\end{tabular}\n"
      ],
      "text/markdown": [
       "\n",
       "A matrix: 6 × 11 of type dbl\n",
       "\n",
       "| <!--/--> | Comp.1 | Comp.2 | Comp.3 | Comp.4 | Comp.5 | Comp.6 | Comp.7 | Comp.8 | Comp.9 | Comp.10 | Comp.11 |\n",
       "|---|---|---|---|---|---|---|---|---|---|---|---|\n",
       "| 505 |  0.094685019 | -1.215448370 | -0.4781696 |  1.36158358 | -0.05388943 |  0.2227936 | -0.50392916 |  0.58014195 |  0.59526149 |  0.1186374 |  0.47635181 |\n",
       "| 324 | -0.334179753 |  0.021864933 | -1.3800408 |  0.02665146 | -0.42628814 |  0.2562877 | -0.08083747 |  0.04764883 |  0.27381912 |  0.4886224 |  0.07238535 |\n",
       "| 167 | -0.005359866 | -2.648474694 |  2.1228599 |  0.34593163 |  0.34216782 | -0.2200462 |  0.34366614 |  0.39249254 | -0.60943481 |  0.8819785 | -0.06527647 |\n",
       "| 129 |  1.861689150 | -1.022399533 | -0.7223453 |  0.77208753 |  0.51558764 | -0.5115502 | -0.66666716 |  0.76865724 | -0.25482711 |  0.1531976 |  0.25063331 |\n",
       "| 418 |  4.410317658 |  2.226841756 |  1.0212538 | -0.43575433 | -0.56664262 |  0.7653514 |  0.26330469 |  0.17829180 |  0.07235677 | -0.1660827 | -0.04634154 |\n",
       "| 471 |  1.768973109 |  0.004706455 | -0.4717692 |  0.56702944 |  0.94692942 | -0.5321163 | -0.01114607 | -0.28273884 | -0.42509655 |  0.1838838 | -0.53828492 |\n",
       "\n"
      ],
      "text/plain": [
       "    Comp.1       Comp.2       Comp.3     Comp.4      Comp.5      Comp.6    \n",
       "505  0.094685019 -1.215448370 -0.4781696  1.36158358 -0.05388943  0.2227936\n",
       "324 -0.334179753  0.021864933 -1.3800408  0.02665146 -0.42628814  0.2562877\n",
       "167 -0.005359866 -2.648474694  2.1228599  0.34593163  0.34216782 -0.2200462\n",
       "129  1.861689150 -1.022399533 -0.7223453  0.77208753  0.51558764 -0.5115502\n",
       "418  4.410317658  2.226841756  1.0212538 -0.43575433 -0.56664262  0.7653514\n",
       "471  1.768973109  0.004706455 -0.4717692  0.56702944  0.94692942 -0.5321163\n",
       "    Comp.7      Comp.8      Comp.9      Comp.10    Comp.11    \n",
       "505 -0.50392916  0.58014195  0.59526149  0.1186374  0.47635181\n",
       "324 -0.08083747  0.04764883  0.27381912  0.4886224  0.07238535\n",
       "167  0.34366614  0.39249254 -0.60943481  0.8819785 -0.06527647\n",
       "129 -0.66666716  0.76865724 -0.25482711  0.1531976  0.25063331\n",
       "418  0.26330469  0.17829180  0.07235677 -0.1660827 -0.04634154\n",
       "471 -0.01114607 -0.28273884 -0.42509655  0.1838838 -0.53828492"
      ]
     },
     "metadata": {},
     "output_type": "display_data"
    }
   ],
   "source": [
    "## Get PCA transformed train data\n",
    "\n",
    "train_data_pca_transformed = predict(pca_object, train_data[,independent_num_cols])\n",
    "\n",
    "head(train_data_pca_transformed)"
   ]
  },
  {
   "cell_type": "code",
   "execution_count": 36,
   "metadata": {},
   "outputs": [
    {
     "data": {
      "text/html": [
       "<table class=\"dataframe\">\n",
       "<caption>A matrix: 6 × 11 of type dbl</caption>\n",
       "<thead>\n",
       "\t<tr><th></th><th scope=col>Comp.1</th><th scope=col>Comp.2</th><th scope=col>Comp.3</th><th scope=col>Comp.4</th><th scope=col>Comp.5</th><th scope=col>Comp.6</th><th scope=col>Comp.7</th><th scope=col>Comp.8</th><th scope=col>Comp.9</th><th scope=col>Comp.10</th><th scope=col>Comp.11</th></tr>\n",
       "</thead>\n",
       "<tbody>\n",
       "\t<tr><th scope=row>5</th><td>-2.2810427</td><td>-0.3706896</td><td>-0.2127497</td><td> 1.0582206</td><td>-0.4960849</td><td>0.7317011</td><td> 0.03783943</td><td>-0.5049904</td><td>-0.1373807</td><td>0.2493276</td><td> 0.44965149</td></tr>\n",
       "\t<tr><th scope=row>6</th><td>-2.0045485</td><td>-0.1084898</td><td>-0.7311395</td><td> 0.5743267</td><td>-0.6286734</td><td>0.6520152</td><td> 0.17917377</td><td>-0.4956355</td><td> 0.3623543</td><td>0.4709912</td><td> 0.30181218</td></tr>\n",
       "\t<tr><th scope=row>7</th><td>-1.1800895</td><td>-0.3187383</td><td>-0.1382494</td><td>-1.3824950</td><td>-0.2118314</td><td>0.1602178</td><td> 0.22286556</td><td>-0.5316560</td><td>-0.1636178</td><td>0.5137302</td><td>-0.04992936</td></tr>\n",
       "\t<tr><th scope=row>8</th><td>-0.6319504</td><td>-0.4513613</td><td>-0.1719735</td><td>-1.6691819</td><td>-0.2044513</td><td>0.5876110</td><td>-0.79307274</td><td>-0.8107280</td><td>-0.6513457</td><td>0.8161553</td><td>-0.10670340</td></tr>\n",
       "\t<tr><th scope=row>9</th><td>-0.7770850</td><td>-0.4144546</td><td>-0.3300994</td><td>-1.6357845</td><td>-0.3007126</td><td>0.3001000</td><td>-0.29522080</td><td>-0.7312878</td><td> 0.3534262</td><td>1.4222006</td><td>-0.16721579</td></tr>\n",
       "\t<tr><th scope=row>10</th><td>-0.8751155</td><td>-0.1643691</td><td>-0.2429694</td><td>-1.6689883</td><td>-0.2942821</td><td>0.3728595</td><td>-0.45050097</td><td>-0.8590192</td><td>-0.5296158</td><td>0.9195362</td><td> 0.03859284</td></tr>\n",
       "</tbody>\n",
       "</table>\n"
      ],
      "text/latex": [
       "A matrix: 6 × 11 of type dbl\n",
       "\\begin{tabular}{r|lllllllllll}\n",
       "  & Comp.1 & Comp.2 & Comp.3 & Comp.4 & Comp.5 & Comp.6 & Comp.7 & Comp.8 & Comp.9 & Comp.10 & Comp.11\\\\\n",
       "\\hline\n",
       "\t5 & -2.2810427 & -0.3706896 & -0.2127497 &  1.0582206 & -0.4960849 & 0.7317011 &  0.03783943 & -0.5049904 & -0.1373807 & 0.2493276 &  0.44965149\\\\\n",
       "\t6 & -2.0045485 & -0.1084898 & -0.7311395 &  0.5743267 & -0.6286734 & 0.6520152 &  0.17917377 & -0.4956355 &  0.3623543 & 0.4709912 &  0.30181218\\\\\n",
       "\t7 & -1.1800895 & -0.3187383 & -0.1382494 & -1.3824950 & -0.2118314 & 0.1602178 &  0.22286556 & -0.5316560 & -0.1636178 & 0.5137302 & -0.04992936\\\\\n",
       "\t8 & -0.6319504 & -0.4513613 & -0.1719735 & -1.6691819 & -0.2044513 & 0.5876110 & -0.79307274 & -0.8107280 & -0.6513457 & 0.8161553 & -0.10670340\\\\\n",
       "\t9 & -0.7770850 & -0.4144546 & -0.3300994 & -1.6357845 & -0.3007126 & 0.3001000 & -0.29522080 & -0.7312878 &  0.3534262 & 1.4222006 & -0.16721579\\\\\n",
       "\t10 & -0.8751155 & -0.1643691 & -0.2429694 & -1.6689883 & -0.2942821 & 0.3728595 & -0.45050097 & -0.8590192 & -0.5296158 & 0.9195362 &  0.03859284\\\\\n",
       "\\end{tabular}\n"
      ],
      "text/markdown": [
       "\n",
       "A matrix: 6 × 11 of type dbl\n",
       "\n",
       "| <!--/--> | Comp.1 | Comp.2 | Comp.3 | Comp.4 | Comp.5 | Comp.6 | Comp.7 | Comp.8 | Comp.9 | Comp.10 | Comp.11 |\n",
       "|---|---|---|---|---|---|---|---|---|---|---|---|\n",
       "| 5 | -2.2810427 | -0.3706896 | -0.2127497 |  1.0582206 | -0.4960849 | 0.7317011 |  0.03783943 | -0.5049904 | -0.1373807 | 0.2493276 |  0.44965149 |\n",
       "| 6 | -2.0045485 | -0.1084898 | -0.7311395 |  0.5743267 | -0.6286734 | 0.6520152 |  0.17917377 | -0.4956355 |  0.3623543 | 0.4709912 |  0.30181218 |\n",
       "| 7 | -1.1800895 | -0.3187383 | -0.1382494 | -1.3824950 | -0.2118314 | 0.1602178 |  0.22286556 | -0.5316560 | -0.1636178 | 0.5137302 | -0.04992936 |\n",
       "| 8 | -0.6319504 | -0.4513613 | -0.1719735 | -1.6691819 | -0.2044513 | 0.5876110 | -0.79307274 | -0.8107280 | -0.6513457 | 0.8161553 | -0.10670340 |\n",
       "| 9 | -0.7770850 | -0.4144546 | -0.3300994 | -1.6357845 | -0.3007126 | 0.3001000 | -0.29522080 | -0.7312878 |  0.3534262 | 1.4222006 | -0.16721579 |\n",
       "| 10 | -0.8751155 | -0.1643691 | -0.2429694 | -1.6689883 | -0.2942821 | 0.3728595 | -0.45050097 | -0.8590192 | -0.5296158 | 0.9195362 |  0.03859284 |\n",
       "\n"
      ],
      "text/plain": [
       "   Comp.1     Comp.2     Comp.3     Comp.4     Comp.5     Comp.6    Comp.7     \n",
       "5  -2.2810427 -0.3706896 -0.2127497  1.0582206 -0.4960849 0.7317011  0.03783943\n",
       "6  -2.0045485 -0.1084898 -0.7311395  0.5743267 -0.6286734 0.6520152  0.17917377\n",
       "7  -1.1800895 -0.3187383 -0.1382494 -1.3824950 -0.2118314 0.1602178  0.22286556\n",
       "8  -0.6319504 -0.4513613 -0.1719735 -1.6691819 -0.2044513 0.5876110 -0.79307274\n",
       "9  -0.7770850 -0.4144546 -0.3300994 -1.6357845 -0.3007126 0.3001000 -0.29522080\n",
       "10 -0.8751155 -0.1643691 -0.2429694 -1.6689883 -0.2942821 0.3728595 -0.45050097\n",
       "   Comp.8     Comp.9     Comp.10   Comp.11    \n",
       "5  -0.5049904 -0.1373807 0.2493276  0.44965149\n",
       "6  -0.4956355  0.3623543 0.4709912  0.30181218\n",
       "7  -0.5316560 -0.1636178 0.5137302 -0.04992936\n",
       "8  -0.8107280 -0.6513457 0.8161553 -0.10670340\n",
       "9  -0.7312878  0.3534262 1.4222006 -0.16721579\n",
       "10 -0.8590192 -0.5296158 0.9195362  0.03859284"
      ]
     },
     "metadata": {},
     "output_type": "display_data"
    }
   ],
   "source": [
    "## Get PCA transformed validation data\n",
    "\n",
    "validation_data_pca_transformed = predict(pca_object, validation_data[,independent_num_cols])\n",
    "\n",
    "head(validation_data_pca_transformed)"
   ]
  },
  {
   "cell_type": "code",
   "execution_count": 37,
   "metadata": {},
   "outputs": [
    {
     "data": {
      "text/html": [
       "<style>\n",
       ".list-inline {list-style: none; margin:0; padding: 0}\n",
       ".list-inline>li {display: inline-block}\n",
       ".list-inline>li:not(:last-child)::after {content: \"\\00b7\"; padding: 0 .5ex}\n",
       "</style>\n",
       "<ol class=list-inline><li>'CHAS'</li><li>'RAD'</li><li>'MV'</li></ol>\n"
      ],
      "text/latex": [
       "\\begin{enumerate*}\n",
       "\\item 'CHAS'\n",
       "\\item 'RAD'\n",
       "\\item 'MV'\n",
       "\\end{enumerate*}\n"
      ],
      "text/markdown": [
       "1. 'CHAS'\n",
       "2. 'RAD'\n",
       "3. 'MV'\n",
       "\n",
       "\n"
      ],
      "text/plain": [
       "[1] \"CHAS\" \"RAD\"  \"MV\"  "
      ]
     },
     "metadata": {},
     "output_type": "display_data"
    }
   ],
   "source": [
    "## Get the column names of target and categorical columns to build a regression model\n",
    "\n",
    "target_cat_cols = setdiff(colnames(train_data),independent_num_cols)\n",
    "target_cat_cols"
   ]
  },
  {
   "cell_type": "code",
   "execution_count": 38,
   "metadata": {},
   "outputs": [
    {
     "data": {
      "image/png": "[encoded data removed]",
      "text/plain": [
       "Plot with title “pca_object”"
      ]
     },
     "metadata": {
      "image/png": {
       "height": 420,
       "width": 420
      }
     },
     "output_type": "display_data"
    }
   ],
   "source": [
    "## Plot\n",
    "\n",
    "plot(pca_object)"
   ]
  },
  {
   "cell_type": "code",
   "execution_count": 39,
   "metadata": {},
   "outputs": [
    {
     "data": {
      "text/html": [
       "<table class=\"dataframe\">\n",
       "<caption>A data.frame: 6 × 4</caption>\n",
       "<thead>\n",
       "\t<tr><th></th><th scope=col>Comp.1</th><th scope=col>CHAS</th><th scope=col>RAD</th><th scope=col>MV</th></tr>\n",
       "\t<tr><th></th><th scope=col>&lt;dbl&gt;</th><th scope=col>&lt;fct&gt;</th><th scope=col>&lt;fct&gt;</th><th scope=col>&lt;dbl&gt;</th></tr>\n",
       "</thead>\n",
       "<tbody>\n",
       "\t<tr><th scope=row>505</th><td> 0.094685019</td><td>0</td><td>1 </td><td>22.0</td></tr>\n",
       "\t<tr><th scope=row>324</th><td>-0.334179753</td><td>0</td><td>5 </td><td>18.5</td></tr>\n",
       "\t<tr><th scope=row>167</th><td>-0.005359866</td><td>0</td><td>5 </td><td>50.0</td></tr>\n",
       "\t<tr><th scope=row>129</th><td> 1.861689150</td><td>0</td><td>4 </td><td>18.0</td></tr>\n",
       "\t<tr><th scope=row>418</th><td> 4.410317658</td><td>0</td><td>24</td><td>10.4</td></tr>\n",
       "\t<tr><th scope=row>471</th><td> 1.768973109</td><td>0</td><td>24</td><td>19.9</td></tr>\n",
       "</tbody>\n",
       "</table>\n"
      ],
      "text/latex": [
       "A data.frame: 6 × 4\n",
       "\\begin{tabular}{r|llll}\n",
       "  & Comp.1 & CHAS & RAD & MV\\\\\n",
       "  & <dbl> & <fct> & <fct> & <dbl>\\\\\n",
       "\\hline\n",
       "\t505 &  0.094685019 & 0 & 1  & 22.0\\\\\n",
       "\t324 & -0.334179753 & 0 & 5  & 18.5\\\\\n",
       "\t167 & -0.005359866 & 0 & 5  & 50.0\\\\\n",
       "\t129 &  1.861689150 & 0 & 4  & 18.0\\\\\n",
       "\t418 &  4.410317658 & 0 & 24 & 10.4\\\\\n",
       "\t471 &  1.768973109 & 0 & 24 & 19.9\\\\\n",
       "\\end{tabular}\n"
      ],
      "text/markdown": [
       "\n",
       "A data.frame: 6 × 4\n",
       "\n",
       "| <!--/--> | Comp.1 &lt;dbl&gt; | CHAS &lt;fct&gt; | RAD &lt;fct&gt; | MV &lt;dbl&gt; |\n",
       "|---|---|---|---|---|\n",
       "| 505 |  0.094685019 | 0 | 1  | 22.0 |\n",
       "| 324 | -0.334179753 | 0 | 5  | 18.5 |\n",
       "| 167 | -0.005359866 | 0 | 5  | 50.0 |\n",
       "| 129 |  1.861689150 | 0 | 4  | 18.0 |\n",
       "| 418 |  4.410317658 | 0 | 24 | 10.4 |\n",
       "| 471 |  1.768973109 | 0 | 24 | 19.9 |\n",
       "\n"
      ],
      "text/plain": [
       "    Comp.1       CHAS RAD MV  \n",
       "505  0.094685019 0    1   22.0\n",
       "324 -0.334179753 0    5   18.5\n",
       "167 -0.005359866 0    5   50.0\n",
       "129  1.861689150 0    4   18.0\n",
       "418  4.410317658 0    24  10.4\n",
       "471  1.768973109 0    24  19.9"
      ]
     },
     "metadata": {},
     "output_type": "display_data"
    }
   ],
   "source": [
    "## Combine PCA transformed train data with categorical and target attributes\n",
    "\n",
    "train_data_pca_1comp = data.frame(train_data_pca_transformed[,1,drop=F],train_data[,target_cat_cols])\n",
    "\n",
    "head(train_data_pca_1comp)"
   ]
  },
  {
   "cell_type": "code",
   "execution_count": 40,
   "metadata": {
    "scrolled": true
   },
   "outputs": [
    {
     "data": {
      "text/html": [
       "<table class=\"dataframe\">\n",
       "<caption>A data.frame: 6 × 4</caption>\n",
       "<thead>\n",
       "\t<tr><th></th><th scope=col>Comp.1</th><th scope=col>CHAS</th><th scope=col>RAD</th><th scope=col>MV</th></tr>\n",
       "\t<tr><th></th><th scope=col>&lt;dbl&gt;</th><th scope=col>&lt;fct&gt;</th><th scope=col>&lt;fct&gt;</th><th scope=col>&lt;dbl&gt;</th></tr>\n",
       "</thead>\n",
       "<tbody>\n",
       "\t<tr><th scope=row>5</th><td>-2.2810427</td><td>0</td><td>3</td><td>36.2</td></tr>\n",
       "\t<tr><th scope=row>6</th><td>-2.0045485</td><td>0</td><td>3</td><td>28.7</td></tr>\n",
       "\t<tr><th scope=row>7</th><td>-1.1800895</td><td>0</td><td>5</td><td>22.9</td></tr>\n",
       "\t<tr><th scope=row>8</th><td>-0.6319504</td><td>0</td><td>5</td><td>27.1</td></tr>\n",
       "\t<tr><th scope=row>9</th><td>-0.7770850</td><td>0</td><td>5</td><td>16.5</td></tr>\n",
       "\t<tr><th scope=row>10</th><td>-0.8751155</td><td>0</td><td>5</td><td>18.9</td></tr>\n",
       "</tbody>\n",
       "</table>\n"
      ],
      "text/latex": [
       "A data.frame: 6 × 4\n",
       "\\begin{tabular}{r|llll}\n",
       "  & Comp.1 & CHAS & RAD & MV\\\\\n",
       "  & <dbl> & <fct> & <fct> & <dbl>\\\\\n",
       "\\hline\n",
       "\t5 & -2.2810427 & 0 & 3 & 36.2\\\\\n",
       "\t6 & -2.0045485 & 0 & 3 & 28.7\\\\\n",
       "\t7 & -1.1800895 & 0 & 5 & 22.9\\\\\n",
       "\t8 & -0.6319504 & 0 & 5 & 27.1\\\\\n",
       "\t9 & -0.7770850 & 0 & 5 & 16.5\\\\\n",
       "\t10 & -0.8751155 & 0 & 5 & 18.9\\\\\n",
       "\\end{tabular}\n"
      ],
      "text/markdown": [
       "\n",
       "A data.frame: 6 × 4\n",
       "\n",
       "| <!--/--> | Comp.1 &lt;dbl&gt; | CHAS &lt;fct&gt; | RAD &lt;fct&gt; | MV &lt;dbl&gt; |\n",
       "|---|---|---|---|---|\n",
       "| 5 | -2.2810427 | 0 | 3 | 36.2 |\n",
       "| 6 | -2.0045485 | 0 | 3 | 28.7 |\n",
       "| 7 | -1.1800895 | 0 | 5 | 22.9 |\n",
       "| 8 | -0.6319504 | 0 | 5 | 27.1 |\n",
       "| 9 | -0.7770850 | 0 | 5 | 16.5 |\n",
       "| 10 | -0.8751155 | 0 | 5 | 18.9 |\n",
       "\n"
      ],
      "text/plain": [
       "   Comp.1     CHAS RAD MV  \n",
       "5  -2.2810427 0    3   36.2\n",
       "6  -2.0045485 0    3   28.7\n",
       "7  -1.1800895 0    5   22.9\n",
       "8  -0.6319504 0    5   27.1\n",
       "9  -0.7770850 0    5   16.5\n",
       "10 -0.8751155 0    5   18.9"
      ]
     },
     "metadata": {},
     "output_type": "display_data"
    }
   ],
   "source": [
    "## Combine PCA transformed validation data with categorical and target attributes\n",
    "\n",
    "validation_data_pca_1comp = data.frame(validation_data_pca_transformed[,1,drop=F],validation_data[,target_cat_cols])\n",
    "\n",
    "head(validation_data_pca_1comp)"
   ]
  },
  {
   "cell_type": "code",
   "execution_count": 41,
   "metadata": {},
   "outputs": [
    {
     "data": {
      "text/plain": [
       "\n",
       "Call:\n",
       "lm(formula = MV ~ ., data = train_data_pca_1comp)\n",
       "\n",
       "Residuals:\n",
       "    Min      1Q  Median      3Q     Max \n",
       "-13.730  -3.809  -1.357   2.394  25.969 \n",
       "\n",
       "Coefficients:\n",
       "            Estimate Std. Error t value Pr(>|t|)    \n",
       "(Intercept)  17.0756     1.7500   9.758  < 2e-16 ***\n",
       "Comp.1       -3.1269     0.2385 -13.110  < 2e-16 ***\n",
       "CHAS1         6.5671     1.3348   4.920 1.35e-06 ***\n",
       "RAD2          5.7822     2.3405   2.471 0.013982 *  \n",
       "RAD3          4.5898     2.1476   2.137 0.033301 *  \n",
       "RAD4          2.3960     1.8715   1.280 0.201323    \n",
       "RAD5          7.2305     1.8722   3.862 0.000135 ***\n",
       "RAD6          1.5056     2.3246   0.648 0.517632    \n",
       "RAD7          3.2039     2.4400   1.313 0.190054    \n",
       "RAD8          9.2569     2.3857   3.880 0.000125 ***\n",
       "RAD24         7.8637     2.2223   3.538 0.000459 ***\n",
       "---\n",
       "Signif. codes:  0 ‘***’ 0.001 ‘**’ 0.01 ‘*’ 0.05 ‘.’ 0.1 ‘ ’ 1\n",
       "\n",
       "Residual standard error: 6.756 on 339 degrees of freedom\n",
       "Multiple R-squared:  0.5193,\tAdjusted R-squared:  0.5051 \n",
       "F-statistic: 36.62 on 10 and 339 DF,  p-value: < 2.2e-16\n"
      ]
     },
     "metadata": {},
     "output_type": "display_data"
    }
   ],
   "source": [
    "# Build a linear model on the data with 1 principal component\n",
    "lin_reg = lm(MV ~ .,data=train_data_pca_1comp)\n",
    "\n",
    "summary(lin_reg)"
   ]
  },
  {
   "cell_type": "code",
   "execution_count": 42,
   "metadata": {},
   "outputs": [
    {
     "data": {
      "text/html": [
       "<style>\n",
       ".dl-inline {width: auto; margin:0; padding: 0}\n",
       ".dl-inline>dt, .dl-inline>dd {float: none; width: auto; display: inline-block}\n",
       ".dl-inline>dt::after {content: \":\\0020\"; padding-right: .5ex}\n",
       ".dl-inline>dt:not(:first-of-type) {padding-left: .5ex}\n",
       "</style><dl class=dl-inline><dt>mae</dt><dd>4.76689833861767</dd><dt>mse</dt><dd>44.2155134624166</dd><dt>rmse</dt><dd>6.649474675673</dd><dt>mape</dt><dd>0.216600631880664</dd></dl>\n"
      ],
      "text/latex": [
       "\\begin{description*}\n",
       "\\item[mae] 4.76689833861767\n",
       "\\item[mse] 44.2155134624166\n",
       "\\item[rmse] 6.649474675673\n",
       "\\item[mape] 0.216600631880664\n",
       "\\end{description*}\n"
      ],
      "text/markdown": [
       "mae\n",
       ":   4.76689833861767mse\n",
       ":   44.2155134624166rmse\n",
       ":   6.649474675673mape\n",
       ":   0.216600631880664\n",
       "\n"
      ],
      "text/plain": [
       "       mae        mse       rmse       mape \n",
       " 4.7668983 44.2155135  6.6494747  0.2166006 "
      ]
     },
     "metadata": {},
     "output_type": "display_data"
    },
    {
     "data": {
      "text/html": [
       "<style>\n",
       ".dl-inline {width: auto; margin:0; padding: 0}\n",
       ".dl-inline>dt, .dl-inline>dd {float: none; width: auto; display: inline-block}\n",
       ".dl-inline>dt::after {content: \":\\0020\"; padding-right: .5ex}\n",
       ".dl-inline>dt:not(:first-of-type) {padding-left: .5ex}\n",
       "</style><dl class=dl-inline><dt>mae</dt><dd>4.88376103889865</dd><dt>mse</dt><dd>44.1639933980491</dd><dt>rmse</dt><dd>6.64559955143621</dd><dt>mape</dt><dd>0.236903427128779</dd></dl>\n"
      ],
      "text/latex": [
       "\\begin{description*}\n",
       "\\item[mae] 4.88376103889865\n",
       "\\item[mse] 44.1639933980491\n",
       "\\item[rmse] 6.64559955143621\n",
       "\\item[mape] 0.236903427128779\n",
       "\\end{description*}\n"
      ],
      "text/markdown": [
       "mae\n",
       ":   4.88376103889865mse\n",
       ":   44.1639933980491rmse\n",
       ":   6.64559955143621mape\n",
       ":   0.236903427128779\n",
       "\n"
      ],
      "text/plain": [
       "       mae        mse       rmse       mape \n",
       " 4.8837610 44.1639934  6.6455996  0.2369034 "
      ]
     },
     "metadata": {},
     "output_type": "display_data"
    }
   ],
   "source": [
    "## Predict and Evaluate\n",
    "pred_train = predict(lin_reg,newdata=train_data_pca_1comp)\n",
    "pred_validation = predict(lin_reg,newdata=validation_data_pca_1comp)\n",
    "\n",
    "library(DMwR)\n",
    "regr.eval(train_data_pca_1comp$MV,pred_train)\n",
    "regr.eval(validation_data_pca_1comp$MV,pred_validation)"
   ]
  },
  {
   "cell_type": "markdown",
   "metadata": {},
   "source": [
    "#### Pick Principal Components"
   ]
  },
  {
   "cell_type": "code",
   "execution_count": 43,
   "metadata": {},
   "outputs": [
    {
     "data": {
      "text/plain": [
       "Importance of components:\n",
       "                          Comp.1    Comp.2    Comp.3     Comp.4     Comp.5\n",
       "Standard deviation     2.3610083 1.1041845 1.0570046 0.87096072 0.77003773\n",
       "Proportion of Variance 0.5082121 0.1111561 0.1018600 0.06915874 0.05405974\n",
       "Cumulative Proportion  0.5082121 0.6193681 0.7212281 0.79038688 0.84444661\n",
       "                           Comp.6     Comp.7     Comp.8    Comp.9    Comp.10\n",
       "Standard deviation     0.71090620 0.63743369 0.47371118 0.4575137 0.43370870\n",
       "Proportion of Variance 0.04607597 0.03704418 0.02045866 0.0190835 0.01714929\n",
       "Cumulative Proportion  0.89052259 0.92756677 0.94802543 0.9671089 0.98425823\n",
       "                          Comp.11\n",
       "Standard deviation     0.41552952\n",
       "Proportion of Variance 0.01574177\n",
       "Cumulative Proportion  1.00000000"
      ]
     },
     "metadata": {},
     "output_type": "display_data"
    }
   ],
   "source": [
    "summary(pca_object)"
   ]
  },
  {
   "cell_type": "code",
   "execution_count": 44,
   "metadata": {},
   "outputs": [
    {
     "data": {
      "text/html": [
       "<table class=\"dataframe\">\n",
       "<caption>A data.frame: 6 × 8</caption>\n",
       "<thead>\n",
       "\t<tr><th></th><th scope=col>Comp.1</th><th scope=col>Comp.2</th><th scope=col>Comp.3</th><th scope=col>Comp.4</th><th scope=col>Comp.5</th><th scope=col>CHAS</th><th scope=col>RAD</th><th scope=col>MV</th></tr>\n",
       "\t<tr><th></th><th scope=col>&lt;dbl&gt;</th><th scope=col>&lt;dbl&gt;</th><th scope=col>&lt;dbl&gt;</th><th scope=col>&lt;dbl&gt;</th><th scope=col>&lt;dbl&gt;</th><th scope=col>&lt;fct&gt;</th><th scope=col>&lt;fct&gt;</th><th scope=col>&lt;dbl&gt;</th></tr>\n",
       "</thead>\n",
       "<tbody>\n",
       "\t<tr><th scope=row>505</th><td> 0.094685019</td><td>-1.215448370</td><td>-0.4781696</td><td> 1.36158358</td><td>-0.05388943</td><td>0</td><td>1 </td><td>22.0</td></tr>\n",
       "\t<tr><th scope=row>324</th><td>-0.334179753</td><td> 0.021864933</td><td>-1.3800408</td><td> 0.02665146</td><td>-0.42628814</td><td>0</td><td>5 </td><td>18.5</td></tr>\n",
       "\t<tr><th scope=row>167</th><td>-0.005359866</td><td>-2.648474694</td><td> 2.1228599</td><td> 0.34593163</td><td> 0.34216782</td><td>0</td><td>5 </td><td>50.0</td></tr>\n",
       "\t<tr><th scope=row>129</th><td> 1.861689150</td><td>-1.022399533</td><td>-0.7223453</td><td> 0.77208753</td><td> 0.51558764</td><td>0</td><td>4 </td><td>18.0</td></tr>\n",
       "\t<tr><th scope=row>418</th><td> 4.410317658</td><td> 2.226841756</td><td> 1.0212538</td><td>-0.43575433</td><td>-0.56664262</td><td>0</td><td>24</td><td>10.4</td></tr>\n",
       "\t<tr><th scope=row>471</th><td> 1.768973109</td><td> 0.004706455</td><td>-0.4717692</td><td> 0.56702944</td><td> 0.94692942</td><td>0</td><td>24</td><td>19.9</td></tr>\n",
       "</tbody>\n",
       "</table>\n"
      ],
      "text/latex": [
       "A data.frame: 6 × 8\n",
       "\\begin{tabular}{r|llllllll}\n",
       "  & Comp.1 & Comp.2 & Comp.3 & Comp.4 & Comp.5 & CHAS & RAD & MV\\\\\n",
       "  & <dbl> & <dbl> & <dbl> & <dbl> & <dbl> & <fct> & <fct> & <dbl>\\\\\n",
       "\\hline\n",
       "\t505 &  0.094685019 & -1.215448370 & -0.4781696 &  1.36158358 & -0.05388943 & 0 & 1  & 22.0\\\\\n",
       "\t324 & -0.334179753 &  0.021864933 & -1.3800408 &  0.02665146 & -0.42628814 & 0 & 5  & 18.5\\\\\n",
       "\t167 & -0.005359866 & -2.648474694 &  2.1228599 &  0.34593163 &  0.34216782 & 0 & 5  & 50.0\\\\\n",
       "\t129 &  1.861689150 & -1.022399533 & -0.7223453 &  0.77208753 &  0.51558764 & 0 & 4  & 18.0\\\\\n",
       "\t418 &  4.410317658 &  2.226841756 &  1.0212538 & -0.43575433 & -0.56664262 & 0 & 24 & 10.4\\\\\n",
       "\t471 &  1.768973109 &  0.004706455 & -0.4717692 &  0.56702944 &  0.94692942 & 0 & 24 & 19.9\\\\\n",
       "\\end{tabular}\n"
      ],
      "text/markdown": [
       "\n",
       "A data.frame: 6 × 8\n",
       "\n",
       "| <!--/--> | Comp.1 &lt;dbl&gt; | Comp.2 &lt;dbl&gt; | Comp.3 &lt;dbl&gt; | Comp.4 &lt;dbl&gt; | Comp.5 &lt;dbl&gt; | CHAS &lt;fct&gt; | RAD &lt;fct&gt; | MV &lt;dbl&gt; |\n",
       "|---|---|---|---|---|---|---|---|---|\n",
       "| 505 |  0.094685019 | -1.215448370 | -0.4781696 |  1.36158358 | -0.05388943 | 0 | 1  | 22.0 |\n",
       "| 324 | -0.334179753 |  0.021864933 | -1.3800408 |  0.02665146 | -0.42628814 | 0 | 5  | 18.5 |\n",
       "| 167 | -0.005359866 | -2.648474694 |  2.1228599 |  0.34593163 |  0.34216782 | 0 | 5  | 50.0 |\n",
       "| 129 |  1.861689150 | -1.022399533 | -0.7223453 |  0.77208753 |  0.51558764 | 0 | 4  | 18.0 |\n",
       "| 418 |  4.410317658 |  2.226841756 |  1.0212538 | -0.43575433 | -0.56664262 | 0 | 24 | 10.4 |\n",
       "| 471 |  1.768973109 |  0.004706455 | -0.4717692 |  0.56702944 |  0.94692942 | 0 | 24 | 19.9 |\n",
       "\n"
      ],
      "text/plain": [
       "    Comp.1       Comp.2       Comp.3     Comp.4      Comp.5      CHAS RAD MV  \n",
       "505  0.094685019 -1.215448370 -0.4781696  1.36158358 -0.05388943 0    1   22.0\n",
       "324 -0.334179753  0.021864933 -1.3800408  0.02665146 -0.42628814 0    5   18.5\n",
       "167 -0.005359866 -2.648474694  2.1228599  0.34593163  0.34216782 0    5   50.0\n",
       "129  1.861689150 -1.022399533 -0.7223453  0.77208753  0.51558764 0    4   18.0\n",
       "418  4.410317658  2.226841756  1.0212538 -0.43575433 -0.56664262 0    24  10.4\n",
       "471  1.768973109  0.004706455 -0.4717692  0.56702944  0.94692942 0    24  19.9"
      ]
     },
     "metadata": {},
     "output_type": "display_data"
    }
   ],
   "source": [
    "## Combine PCA transformed train data with categorical and target attributes\n",
    "\n",
    "train_data_pca_5comp = data.frame(train_data_pca_transformed[,1:5],train_data[,target_cat_cols])\n",
    "\n",
    "head(train_data_pca_5comp)"
   ]
  },
  {
   "cell_type": "code",
   "execution_count": 45,
   "metadata": {},
   "outputs": [
    {
     "data": {
      "text/html": [
       "<table class=\"dataframe\">\n",
       "<caption>A data.frame: 6 × 8</caption>\n",
       "<thead>\n",
       "\t<tr><th></th><th scope=col>Comp.1</th><th scope=col>Comp.2</th><th scope=col>Comp.3</th><th scope=col>Comp.4</th><th scope=col>Comp.5</th><th scope=col>CHAS</th><th scope=col>RAD</th><th scope=col>MV</th></tr>\n",
       "\t<tr><th></th><th scope=col>&lt;dbl&gt;</th><th scope=col>&lt;dbl&gt;</th><th scope=col>&lt;dbl&gt;</th><th scope=col>&lt;dbl&gt;</th><th scope=col>&lt;dbl&gt;</th><th scope=col>&lt;fct&gt;</th><th scope=col>&lt;fct&gt;</th><th scope=col>&lt;dbl&gt;</th></tr>\n",
       "</thead>\n",
       "<tbody>\n",
       "\t<tr><th scope=row>5</th><td>-2.2810427</td><td>-0.3706896</td><td>-0.2127497</td><td> 1.0582206</td><td>-0.4960849</td><td>0</td><td>3</td><td>36.2</td></tr>\n",
       "\t<tr><th scope=row>6</th><td>-2.0045485</td><td>-0.1084898</td><td>-0.7311395</td><td> 0.5743267</td><td>-0.6286734</td><td>0</td><td>3</td><td>28.7</td></tr>\n",
       "\t<tr><th scope=row>7</th><td>-1.1800895</td><td>-0.3187383</td><td>-0.1382494</td><td>-1.3824950</td><td>-0.2118314</td><td>0</td><td>5</td><td>22.9</td></tr>\n",
       "\t<tr><th scope=row>8</th><td>-0.6319504</td><td>-0.4513613</td><td>-0.1719735</td><td>-1.6691819</td><td>-0.2044513</td><td>0</td><td>5</td><td>27.1</td></tr>\n",
       "\t<tr><th scope=row>9</th><td>-0.7770850</td><td>-0.4144546</td><td>-0.3300994</td><td>-1.6357845</td><td>-0.3007126</td><td>0</td><td>5</td><td>16.5</td></tr>\n",
       "\t<tr><th scope=row>10</th><td>-0.8751155</td><td>-0.1643691</td><td>-0.2429694</td><td>-1.6689883</td><td>-0.2942821</td><td>0</td><td>5</td><td>18.9</td></tr>\n",
       "</tbody>\n",
       "</table>\n"
      ],
      "text/latex": [
       "A data.frame: 6 × 8\n",
       "\\begin{tabular}{r|llllllll}\n",
       "  & Comp.1 & Comp.2 & Comp.3 & Comp.4 & Comp.5 & CHAS & RAD & MV\\\\\n",
       "  & <dbl> & <dbl> & <dbl> & <dbl> & <dbl> & <fct> & <fct> & <dbl>\\\\\n",
       "\\hline\n",
       "\t5 & -2.2810427 & -0.3706896 & -0.2127497 &  1.0582206 & -0.4960849 & 0 & 3 & 36.2\\\\\n",
       "\t6 & -2.0045485 & -0.1084898 & -0.7311395 &  0.5743267 & -0.6286734 & 0 & 3 & 28.7\\\\\n",
       "\t7 & -1.1800895 & -0.3187383 & -0.1382494 & -1.3824950 & -0.2118314 & 0 & 5 & 22.9\\\\\n",
       "\t8 & -0.6319504 & -0.4513613 & -0.1719735 & -1.6691819 & -0.2044513 & 0 & 5 & 27.1\\\\\n",
       "\t9 & -0.7770850 & -0.4144546 & -0.3300994 & -1.6357845 & -0.3007126 & 0 & 5 & 16.5\\\\\n",
       "\t10 & -0.8751155 & -0.1643691 & -0.2429694 & -1.6689883 & -0.2942821 & 0 & 5 & 18.9\\\\\n",
       "\\end{tabular}\n"
      ],
      "text/markdown": [
       "\n",
       "A data.frame: 6 × 8\n",
       "\n",
       "| <!--/--> | Comp.1 &lt;dbl&gt; | Comp.2 &lt;dbl&gt; | Comp.3 &lt;dbl&gt; | Comp.4 &lt;dbl&gt; | Comp.5 &lt;dbl&gt; | CHAS &lt;fct&gt; | RAD &lt;fct&gt; | MV &lt;dbl&gt; |\n",
       "|---|---|---|---|---|---|---|---|---|\n",
       "| 5 | -2.2810427 | -0.3706896 | -0.2127497 |  1.0582206 | -0.4960849 | 0 | 3 | 36.2 |\n",
       "| 6 | -2.0045485 | -0.1084898 | -0.7311395 |  0.5743267 | -0.6286734 | 0 | 3 | 28.7 |\n",
       "| 7 | -1.1800895 | -0.3187383 | -0.1382494 | -1.3824950 | -0.2118314 | 0 | 5 | 22.9 |\n",
       "| 8 | -0.6319504 | -0.4513613 | -0.1719735 | -1.6691819 | -0.2044513 | 0 | 5 | 27.1 |\n",
       "| 9 | -0.7770850 | -0.4144546 | -0.3300994 | -1.6357845 | -0.3007126 | 0 | 5 | 16.5 |\n",
       "| 10 | -0.8751155 | -0.1643691 | -0.2429694 | -1.6689883 | -0.2942821 | 0 | 5 | 18.9 |\n",
       "\n"
      ],
      "text/plain": [
       "   Comp.1     Comp.2     Comp.3     Comp.4     Comp.5     CHAS RAD MV  \n",
       "5  -2.2810427 -0.3706896 -0.2127497  1.0582206 -0.4960849 0    3   36.2\n",
       "6  -2.0045485 -0.1084898 -0.7311395  0.5743267 -0.6286734 0    3   28.7\n",
       "7  -1.1800895 -0.3187383 -0.1382494 -1.3824950 -0.2118314 0    5   22.9\n",
       "8  -0.6319504 -0.4513613 -0.1719735 -1.6691819 -0.2044513 0    5   27.1\n",
       "9  -0.7770850 -0.4144546 -0.3300994 -1.6357845 -0.3007126 0    5   16.5\n",
       "10 -0.8751155 -0.1643691 -0.2429694 -1.6689883 -0.2942821 0    5   18.9"
      ]
     },
     "metadata": {},
     "output_type": "display_data"
    }
   ],
   "source": [
    "## Combine PCA transformed validation data with categorical and target attributes\n",
    "\n",
    "validation_data_pca_5comp = data.frame(validation_data_pca_transformed[,1:5],validation_data[,target_cat_cols])\n",
    "\n",
    "head(validation_data_pca_5comp)"
   ]
  },
  {
   "cell_type": "code",
   "execution_count": 46,
   "metadata": {},
   "outputs": [
    {
     "data": {
      "text/plain": [
       "\n",
       "Call:\n",
       "lm(formula = MV ~ ., data = train_data_pca_5comp)\n",
       "\n",
       "Residuals:\n",
       "     Min       1Q   Median       3Q      Max \n",
       "-11.4587  -2.6664  -0.5574   1.7879  25.3619 \n",
       "\n",
       "Coefficients:\n",
       "            Estimate Std. Error t value Pr(>|t|)    \n",
       "(Intercept)  19.0237     1.2646  15.044  < 2e-16 ***\n",
       "Comp.1       -2.9596     0.2071 -14.294  < 2e-16 ***\n",
       "Comp.2       -3.3665     0.3040 -11.073  < 2e-16 ***\n",
       "Comp.3        2.8988     0.2825  10.261  < 2e-16 ***\n",
       "Comp.4        1.7158     0.3360   5.107  5.5e-07 ***\n",
       "Comp.5        0.9266     0.3841   2.412 0.016388 *  \n",
       "CHAS1         3.8629     0.9820   3.934 0.000102 ***\n",
       "RAD2          2.4174     1.7027   1.420 0.156618    \n",
       "RAD3          4.3329     1.5701   2.760 0.006104 ** \n",
       "RAD4          2.9421     1.3574   2.167 0.030907 *  \n",
       "RAD5          3.4228     1.3724   2.494 0.013113 *  \n",
       "RAD6          1.3814     1.6704   0.827 0.408844    \n",
       "RAD7          3.7568     1.7631   2.131 0.033835 *  \n",
       "RAD8          4.3162     1.7560   2.458 0.014477 *  \n",
       "RAD24         5.5197     1.7778   3.105 0.002066 ** \n",
       "---\n",
       "Signif. codes:  0 ‘***’ 0.001 ‘**’ 0.01 ‘*’ 0.05 ‘.’ 0.1 ‘ ’ 1\n",
       "\n",
       "Residual standard error: 4.84 on 335 degrees of freedom\n",
       "Multiple R-squared:  0.7563,\tAdjusted R-squared:  0.7461 \n",
       "F-statistic: 74.24 on 14 and 335 DF,  p-value: < 2.2e-16\n"
      ]
     },
     "metadata": {},
     "output_type": "display_data"
    }
   ],
   "source": [
    "# Build a linear model on the data with 5 princial components\n",
    "lin_reg = lm(MV ~ .,data=train_data_pca_5comp)\n",
    "\n",
    "\n",
    "summary(lin_reg)"
   ]
  },
  {
   "cell_type": "code",
   "execution_count": 47,
   "metadata": {},
   "outputs": [
    {
     "data": {
      "text/html": [
       "<style>\n",
       ".dl-inline {width: auto; margin:0; padding: 0}\n",
       ".dl-inline>dt, .dl-inline>dd {float: none; width: auto; display: inline-block}\n",
       ".dl-inline>dt::after {content: \":\\0020\"; padding-right: .5ex}\n",
       ".dl-inline>dt:not(:first-of-type) {padding-left: .5ex}\n",
       "</style><dl class=dl-inline><dt>mae</dt><dd>3.29058739592218</dd><dt>mse</dt><dd>22.4184917091071</dd><dt>rmse</dt><dd>4.73481696680105</dd><dt>mape</dt><dd>0.173902067859926</dd></dl>\n"
      ],
      "text/latex": [
       "\\begin{description*}\n",
       "\\item[mae] 3.29058739592218\n",
       "\\item[mse] 22.4184917091071\n",
       "\\item[rmse] 4.73481696680105\n",
       "\\item[mape] 0.173902067859926\n",
       "\\end{description*}\n"
      ],
      "text/markdown": [
       "mae\n",
       ":   3.29058739592218mse\n",
       ":   22.4184917091071rmse\n",
       ":   4.73481696680105mape\n",
       ":   0.173902067859926\n",
       "\n"
      ],
      "text/plain": [
       "       mae        mse       rmse       mape \n",
       " 3.2905874 22.4184917  4.7348170  0.1739021 "
      ]
     },
     "metadata": {},
     "output_type": "display_data"
    },
    {
     "data": {
      "text/html": [
       "<style>\n",
       ".dl-inline {width: auto; margin:0; padding: 0}\n",
       ".dl-inline>dt, .dl-inline>dd {float: none; width: auto; display: inline-block}\n",
       ".dl-inline>dt::after {content: \":\\0020\"; padding-right: .5ex}\n",
       ".dl-inline>dt:not(:first-of-type) {padding-left: .5ex}\n",
       "</style><dl class=dl-inline><dt>mae</dt><dd>3.64655482299525</dd><dt>mse</dt><dd>30.9691097353804</dd><dt>rmse</dt><dd>5.56498964378015</dd><dt>mape</dt><dd>0.192260053015058</dd></dl>\n"
      ],
      "text/latex": [
       "\\begin{description*}\n",
       "\\item[mae] 3.64655482299525\n",
       "\\item[mse] 30.9691097353804\n",
       "\\item[rmse] 5.56498964378015\n",
       "\\item[mape] 0.192260053015058\n",
       "\\end{description*}\n"
      ],
      "text/markdown": [
       "mae\n",
       ":   3.64655482299525mse\n",
       ":   30.9691097353804rmse\n",
       ":   5.56498964378015mape\n",
       ":   0.192260053015058\n",
       "\n"
      ],
      "text/plain": [
       "       mae        mse       rmse       mape \n",
       " 3.6465548 30.9691097  5.5649896  0.1922601 "
      ]
     },
     "metadata": {},
     "output_type": "display_data"
    }
   ],
   "source": [
    "## Predict and Evaluate\n",
    "pred_train = predict(lin_reg,newdata=train_data_pca_5comp)\n",
    "pred_validation = predict(lin_reg,newdata=validation_data_pca_5comp)\n",
    "\n",
    "library(DMwR)\n",
    "regr.eval(train_data_pca_5comp$MV,pred_train)\n",
    "regr.eval(validation_data_pca_5comp$MV,pred_validation)"
   ]
  },
  {
   "cell_type": "code",
   "execution_count": null,
   "metadata": {},
   "outputs": [],
   "source": []
  },
  {
   "cell_type": "code",
   "execution_count": null,
   "metadata": {},
   "outputs": [],
   "source": []
  },
  {
   "cell_type": "code",
   "execution_count": null,
   "metadata": {},
   "outputs": [],
   "source": []
  }
 ],
 "metadata": {
  "kernelspec": {
   "display_name": "R",
   "language": "R",
   "name": "ir"
  },
  "language_info": {
   "codemirror_mode": "r",
   "file_extension": ".r",
   "mimetype": "text/x-r-source",
   "name": "R",
   "pygments_lexer": "r",
   "version": "4.1.0"
  }
 },
 "nbformat": 4,
 "nbformat_minor": 4
}
